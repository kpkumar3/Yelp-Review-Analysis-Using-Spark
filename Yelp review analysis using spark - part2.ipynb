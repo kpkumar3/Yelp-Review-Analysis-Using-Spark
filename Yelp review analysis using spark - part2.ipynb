{
 "cells": [
  {
   "cell_type": "markdown",
   "metadata": {},
   "source": [
    "### specify the spark directory and path"
   ]
  },
  {
   "cell_type": "code",
   "execution_count": 1,
   "metadata": {
    "collapsed": false
   },
   "outputs": [],
   "source": [
    "import os,sys\n",
    "os.environ[\"SPARK_HOME\"] = '/usr/hdp/current/spark-client'\n",
    "os.environ['PYSPARK_SUBMIT_ARGS'] = '--packages com.databricks:spark-csv_2.11:1.2.0 pyspark-shell'\n",
    "sys.path.insert(0, os.path.join(os.environ[\"SPARK_HOME\"], 'python'))"
   ]
  },
  {
   "cell_type": "markdown",
   "metadata": {},
   "source": [
    "### import required packages and spark"
   ]
  },
  {
   "cell_type": "code",
   "execution_count": 177,
   "metadata": {
    "collapsed": false
   },
   "outputs": [],
   "source": [
    "import pyspark\n",
    "from pyspark import SparkConf, SparkContext\n",
    "from pyspark import sql\n",
    "from pyspark.sql import SQLContext\n",
    "from pyspark.sql.functions import avg\n",
    "from pyspark.sql.functions import col"
   ]
  },
  {
   "cell_type": "code",
   "execution_count": 3,
   "metadata": {
    "collapsed": true
   },
   "outputs": [],
   "source": [
    "import string\n",
    "import pandas as pd"
   ]
  },
  {
   "cell_type": "markdown",
   "metadata": {},
   "source": [
    "### use this to stop the spark context before exiting"
   ]
  },
  {
   "cell_type": "code",
   "execution_count": 55,
   "metadata": {
    "collapsed": false
   },
   "outputs": [],
   "source": [
    "#sc.stop()"
   ]
  },
  {
   "cell_type": "markdown",
   "metadata": {},
   "source": [
    "### sc is already initiated. Uncomment below and run to initiate it again"
   ]
  },
  {
   "cell_type": "code",
   "execution_count": 4,
   "metadata": {
    "collapsed": false
   },
   "outputs": [],
   "source": [
    "#sc is already initiated. Uncomment below and run to initiate it again\n",
    "conf = SparkConf()\n",
    "conf.set('spark.ui.port',60133)\n",
    "conf.setAppName(\"StopYourCodes\")\n",
    "conf.set('spark.local.dir',\"/home/pkalavai2\")\n",
    "conf.set('spark.shuffle.file.buffer','64k')\n",
    "conf.set('spark.driver.extraJavaOptions', \"-Dspark.local.dir=/mnt/spark,/mnt2/spark -Dhadoop.tmp.dir=/mnt/ephemeral-hdfs\")\n",
    "sc = SparkContext(conf=conf)"
   ]
  },
  {
   "cell_type": "code",
   "execution_count": 22,
   "metadata": {
    "collapsed": true
   },
   "outputs": [],
   "source": [
    "### sc is already initiated. Uncomment below and run to initiate it again\n",
    "#conf = SparkConf()\n",
    "#conf.set('spark.ui.port',60133)\n",
    "#conf.set('spark.local.dir', \"/home/pkalavai2\")\n",
    "#conf.set('spark.sql.shuffle.partitions',400) \n",
    "#sc = SparkContext(conf=conf)"
   ]
  },
  {
   "cell_type": "code",
   "execution_count": 5,
   "metadata": {
    "collapsed": true
   },
   "outputs": [],
   "source": [
    "sqlct = SQLContext(sc)"
   ]
  },
  {
   "cell_type": "code",
   "execution_count": 6,
   "metadata": {
    "collapsed": false
   },
   "outputs": [],
   "source": [
    "loc='/data/MSA_8050_Spring_18/proj10'"
   ]
  },
  {
   "cell_type": "code",
   "execution_count": 7,
   "metadata": {
    "collapsed": false
   },
   "outputs": [
    {
     "name": "stdout",
     "output_type": "stream",
     "text": [
      "Found 13 items\n",
      "-rw-r--r--   3 pkalavai2 hdfs       4656 2018-04-28 17:19 /data/MSA_8050_Spring_18/proj10/sample-yelp-review.csv\n",
      "-rw-r--r--   3 pkalavai2 hdfs   70015437 2018-04-29 20:13 /data/MSA_8050_Spring_18/proj10/sample100k.csv\n",
      "-rw-r--r--   3 pkalavai2 hdfs    1873475 2018-04-28 18:41 /data/MSA_8050_Spring_18/proj10/sample2k.csv\n",
      "-rw-r--r--   3 pkalavai2 hdfs    1873475 2018-04-29 21:37 /data/MSA_8050_Spring_18/proj10/sample2kn.csv\n",
      "-rw-r--r--   3 pkalavai2 hdfs   31760674 2018-04-27 17:34 /data/MSA_8050_Spring_18/proj10/yelp_business.csv\n",
      "-rw-r--r--   3 pkalavai2 hdfs   41377121 2018-04-27 17:34 /data/MSA_8050_Spring_18/proj10/yelp_business_attributes.csv\n",
      "-rw-r--r--   3 pkalavai2 hdfs   13866351 2018-04-27 17:34 /data/MSA_8050_Spring_18/proj10/yelp_business_hours.csv\n",
      "-rw-r--r--   3 pkalavai2 hdfs  135964892 2018-04-27 17:34 /data/MSA_8050_Spring_18/proj10/yelp_checkin.csv\n",
      "-rw-r--r--   3 pkalavai2 hdfs 3791120545 2018-04-27 17:31 /data/MSA_8050_Spring_18/proj10/yelp_review.csv\n",
      "-rw-r--r--   3 pkalavai2 hdfs 3686630881 2018-04-30 00:21 /data/MSA_8050_Spring_18/proj10/yelp_review1.csv\n",
      "-rw-r--r--   3 pkalavai2 hdfs   69937867 2018-04-30 01:16 /data/MSA_8050_Spring_18/proj10/yelp_review100k.csv\n",
      "-rw-r--r--   3 pkalavai2 hdfs  148085910 2018-04-27 17:33 /data/MSA_8050_Spring_18/proj10/yelp_tip.csv\n",
      "-rw-r--r--   3 pkalavai2 hdfs 1363176944 2018-04-27 17:33 /data/MSA_8050_Spring_18/proj10/yelp_user.csv\n"
     ]
    }
   ],
   "source": [
    "%%sh\n",
    "hdfs dfs -ls /data/MSA_8050_Spring_18/proj10/"
   ]
  },
  {
   "cell_type": "code",
   "execution_count": 8,
   "metadata": {
    "collapsed": false
   },
   "outputs": [
    {
     "data": {
      "text/plain": [
       "'/data/MSA_8050_Spring_18/proj10/yelp_review100k.csv'"
      ]
     },
     "execution_count": 8,
     "metadata": {},
     "output_type": "execute_result"
    }
   ],
   "source": [
    "os.path.join(loc, 'yelp_review100k.csv')"
   ]
  },
  {
   "cell_type": "code",
   "execution_count": 26,
   "metadata": {
    "collapsed": false
   },
   "outputs": [
    {
     "name": "stderr",
     "output_type": "stream",
     "text": [
      "get: `sample-yelp-review.csv': File exists\n"
     ]
    }
   ],
   "source": [
    "#%%sh\n",
    "#hdfs dfs -get /data/MSA_8050_Spring_18/proj10/sample-yelp-review.csv"
   ]
  },
  {
   "cell_type": "code",
   "execution_count": 33,
   "metadata": {
    "collapsed": true
   },
   "outputs": [],
   "source": [
    "#%%sh\n",
    "#hdfs dfs -get /data/MSA_8050_Spring_18/proj10/yelp_business.csv"
   ]
  },
  {
   "cell_type": "code",
   "execution_count": 34,
   "metadata": {
    "collapsed": true
   },
   "outputs": [],
   "source": [
    "#pdf_business = pd.read_csv('yelp_business.csv')\n",
    "#pdf_business = pdf_business.replace({'\\n':'', '\\t':'', '\\r':''}, regex=True)"
   ]
  },
  {
   "cell_type": "code",
   "execution_count": 38,
   "metadata": {
    "collapsed": false
   },
   "outputs": [],
   "source": [
    "#%%sh\n",
    "#hdfs dfs -get /data/MSA_8050_Spring_18/proj10/yelp_user.csv"
   ]
  },
  {
   "cell_type": "code",
   "execution_count": 39,
   "metadata": {
    "collapsed": false
   },
   "outputs": [],
   "source": [
    "#pdf_user = pd.read_csv('yelp_user.csv')\n",
    "#pdf_user = pdf_user.replace({'\\n':'', '\\t':'', '\\r':''}, regex=True)"
   ]
  },
  {
   "cell_type": "code",
   "execution_count": 121,
   "metadata": {
    "collapsed": false
   },
   "outputs": [],
   "source": [
    "#pdf_business.columns"
   ]
  },
  {
   "cell_type": "markdown",
   "metadata": {
    "collapsed": true
   },
   "source": [
    "# Reading yelp_review1 file. This file is the cleaned file (without \\n characters)"
   ]
  },
  {
   "cell_type": "code",
   "execution_count": 9,
   "metadata": {
    "collapsed": true
   },
   "outputs": [],
   "source": [
    "df_rev = sqlct.read.format(\"com.databricks.spark.csv\").options(charset=\"ISO-8859-1\",separator = ',', multiline=True, header=True, inferSchema = True).load(os.path.join(loc, 'yelp_review1.csv'))"
   ]
  },
  {
   "cell_type": "markdown",
   "metadata": {},
   "source": [
    "#### count of number of reviews - 5.2 million"
   ]
  },
  {
   "cell_type": "code",
   "execution_count": 10,
   "metadata": {
    "collapsed": false
   },
   "outputs": [
    {
     "data": {
      "text/plain": [
       "5261668"
      ]
     },
     "execution_count": 10,
     "metadata": {},
     "output_type": "execute_result"
    }
   ],
   "source": [
    "#count of number of reviews - 5.2 million\n",
    "df_rev.count()"
   ]
  },
  {
   "cell_type": "code",
   "execution_count": 14,
   "metadata": {
    "collapsed": false,
    "scrolled": true
   },
   "outputs": [
    {
     "name": "stdout",
     "output_type": "stream",
     "text": [
      "+--------------------+--------------------+--------------------+-----+----------+--------------------+------+-----+----+\n",
      "|           review_id|             user_id|         business_id|stars|      date|                text|useful|funny|cool|\n",
      "+--------------------+--------------------+--------------------+-----+----------+--------------------+------+-----+----+\n",
      "|vkVSCC7xljjrAI4UG...|bv2nCi5Qv5vroFiqK...|AEx2SYEUJmTxVVB18...|    5|2016-05-28|Super simple plac...|     0|    0|   0|\n",
      "|n6QzIUObkYshz4dz2...|bv2nCi5Qv5vroFiqK...|VR6GpWIda3SfvPC-l...|    5|2016-05-28|Small unassuming ...|     0|    0|   0|\n",
      "|MV3CcKScW05u5LVfF...|bv2nCi5Qv5vroFiqK...|CKC0-MOWMqoeWf6s-...|    5|2016-05-28|Lester's is locat...|     0|    0|   0|\n",
      "|IXvOzsEMYtiJI0CAR...|bv2nCi5Qv5vroFiqK...|ACFtxLv8pGrrxMm6E...|    4|2016-05-28|Love coming here....|     0|    0|   0|\n",
      "|L_9BTb55X0GDtThi6...|bv2nCi5Qv5vroFiqK...|s2I_Ni76bjJNK9yG6...|    4|2016-05-28|Had their chocola...|     0|    0|   0|\n",
      "+--------------------+--------------------+--------------------+-----+----------+--------------------+------+-----+----+\n",
      "only showing top 5 rows\n",
      "\n"
     ]
    }
   ],
   "source": [
    "df_rev.show(5)"
   ]
  },
  {
   "cell_type": "markdown",
   "metadata": {},
   "source": [
    "## count of reviews based on the star rating"
   ]
  },
  {
   "cell_type": "code",
   "execution_count": 11,
   "metadata": {
    "collapsed": false,
    "scrolled": true
   },
   "outputs": [
    {
     "name": "stdout",
     "output_type": "stream",
     "text": [
      "+-----+-------+\n",
      "|stars|  count|\n",
      "+-----+-------+\n",
      "|    1| 731363|\n",
      "|    2| 438161|\n",
      "|    3| 615481|\n",
      "|    4|1223316|\n",
      "|    5|2253347|\n",
      "+-----+-------+\n",
      "\n"
     ]
    }
   ],
   "source": [
    "#count of reviews based on the star rating\n",
    "df_rev.groupby(\"stars\").count().show()"
   ]
  },
  {
   "cell_type": "code",
   "execution_count": 12,
   "metadata": {
    "collapsed": false
   },
   "outputs": [
    {
     "name": "stdout",
     "output_type": "stream",
     "text": [
      "+--------------------+-----+\n",
      "|             user_id|count|\n",
      "+--------------------+-----+\n",
      "|CxDOIDnH8gp9KXzpB...| 3569|\n",
      "|bLbSNkLggFnqwNNzz...| 2077|\n",
      "|PKEzKWv_FktMm2mGP...| 1611|\n",
      "|DK57YibC5ShBmqQl9...| 1463|\n",
      "|QJI9OSEn6ujRCtrX0...| 1322|\n",
      "|d_TBs6J3twMy9GChq...| 1184|\n",
      "|ELcQDlf69kb-ihJfx...| 1159|\n",
      "|cMEtAiW60I5wE_vLf...| 1126|\n",
      "|hWDybu_KvYLSdEFzG...| 1117|\n",
      "|U4INQZOPSUaj8hMjL...| 1101|\n",
      "|UYcmGbelzRa0Q6Jqz...| 1092|\n",
      "|62GNFh5FySkA3MbrQ...| 1051|\n",
      "|dIIKEfOgo0KqUfGQv...|  989|\n",
      "|n86B7IkbU20AkxlFX...|  955|\n",
      "|iDlkZO2iILS8Jwfdy...|  947|\n",
      "|N3oNEwh0qgPqPP3Em...|  926|\n",
      "|rCWrxuRC8_pfagpch...|  915|\n",
      "|Ry1O_KXZHGRI8g5zB...|  896|\n",
      "|0BBUmH7Krcax1RZgb...|  874|\n",
      "|pMefTWo6gMdx8WhYS...|  838|\n",
      "+--------------------+-----+\n",
      "only showing top 20 rows\n",
      "\n"
     ]
    }
   ],
   "source": [
    "####Number of reviews by user in descending order of count\n",
    "pdf = df_rev.groupby(\"user_id\").count().orderBy(\"count\",ascending = False).show()"
   ]
  },
  {
   "cell_type": "code",
   "execution_count": 153,
   "metadata": {
    "collapsed": true
   },
   "outputs": [],
   "source": [
    "#This creates a csv o/p file: Do not run if cluster is already out of space.\n",
    "#pdf1 = df_rev.groupby(\"user_id\").count().orderBy(\"count\",ascending = False).take(50).toPandas()\n",
    "#pdf1.to_csv(\"Top50ReviewCountByUser.csv\",index=False)"
   ]
  },
  {
   "cell_type": "code",
   "execution_count": 13,
   "metadata": {
    "collapsed": false,
    "scrolled": true
   },
   "outputs": [
    {
     "name": "stdout",
     "output_type": "stream",
     "text": [
      "+--------------------+-----+\n",
      "|         business_id|count|\n",
      "+--------------------+-----+\n",
      "|4JNXUYY8wbaaDmk3B...| 7362|\n",
      "|RESDUcs7fIiihp38-...| 7006|\n",
      "|K7lWdNUhCbcnEvI0N...| 5951|\n",
      "|cYwJA2A6I12KNkm2r...| 5448|\n",
      "|DkYS3arLOhA8si5uU...| 4870|\n",
      "|f4x1YBxkLrZg652xt...| 4774|\n",
      "|2weQS-RnoOBhb1KsH...| 4018|\n",
      "|KskYqH1Bi7Z_61pH6...| 3965|\n",
      "|eoHdUeQDNgQ6WYEnP...| 3911|\n",
      "|ujHiaprwCQ5ewziu0...| 3836|\n",
      "|SMPbvZLSMMb7KU76Y...| 3794|\n",
      "|5LNZ67Yw9RD6nf4_U...| 3772|\n",
      "|iCQpiavjjPzJ5_3gP...| 3741|\n",
      "|AV6weBrZFFBfRGCbc...| 3623|\n",
      "|rcaPajgKOJC2vo_l3...| 3571|\n",
      "|El4FC8jcawUVgw_0E...| 3445|\n",
      "|FaHADZARwnY4yvlvp...| 3287|\n",
      "|hihud--QRriCYZw1z...| 3264|\n",
      "|Wxxvi3LZbHNIDwJ-Z...| 3103|\n",
      "|7sPNbCx7vGAaH7SbN...| 3064|\n",
      "+--------------------+-----+\n",
      "only showing top 20 rows\n",
      "\n"
     ]
    }
   ],
   "source": [
    "####Number of reviews each business_id in descending order of count\n",
    "df_rev.groupby(\"business_id\").count().orderBy(\"count\",ascending = False).show()"
   ]
  },
  {
   "cell_type": "code",
   "execution_count": 155,
   "metadata": {
    "collapsed": true
   },
   "outputs": [],
   "source": [
    "#Creates a csv file with output. \n",
    "#pdf1 = df_rev.groupby(\"business_id\").count().orderBy(\"count\",ascending = False).take(50).toPandas()\n",
    "#pdf1.to_csv(\"Top50ReviewCountByBusiness.csv\",index=False)"
   ]
  },
  {
   "cell_type": "markdown",
   "metadata": {},
   "source": [
    "## Sorted by the number of reviews of each ratings given by user."
   ]
  },
  {
   "cell_type": "code",
   "execution_count": 14,
   "metadata": {
    "collapsed": false,
    "scrolled": true
   },
   "outputs": [
    {
     "name": "stdout",
     "output_type": "stream",
     "text": [
      "+--------------------+-----+-----+\n",
      "|             user_id|stars|count|\n",
      "+--------------------+-----+-----+\n",
      "|CxDOIDnH8gp9KXzpB...|    3| 1924|\n",
      "|CxDOIDnH8gp9KXzpB...|    4| 1120|\n",
      "|bLbSNkLggFnqwNNzz...|    3|  979|\n",
      "|DK57YibC5ShBmqQl9...|    4|  814|\n",
      "|bLbSNkLggFnqwNNzz...|    4|  771|\n",
      "|cMEtAiW60I5wE_vLf...|    4|  715|\n",
      "|PKEzKWv_FktMm2mGP...|    4|  707|\n",
      "|QJI9OSEn6ujRCtrX0...|    4|  630|\n",
      "|PKEzKWv_FktMm2mGP...|    3|  601|\n",
      "|hWDybu_KvYLSdEFzG...|    4|  527|\n",
      "|62GNFh5FySkA3MbrQ...|    3|  524|\n",
      "|d_TBs6J3twMy9GChq...|    4|  515|\n",
      "|dIIKEfOgo0KqUfGQv...|    4|  481|\n",
      "|n86B7IkbU20AkxlFX...|    4|  477|\n",
      "|Wu0yySWcHQ5tZ_59H...|    3|  445|\n",
      "|UYcmGbelzRa0Q6Jqz...|    4|  442|\n",
      "|U4INQZOPSUaj8hMjL...|    4|  436|\n",
      "|N3oNEwh0qgPqPP3Em...|    4|  432|\n",
      "|Ry1O_KXZHGRI8g5zB...|    4|  430|\n",
      "|d_TBs6J3twMy9GChq...|    3|  427|\n",
      "+--------------------+-----+-----+\n",
      "only showing top 20 rows\n",
      "\n"
     ]
    }
   ],
   "source": [
    "#Sorted by the number of reviews of each ratings given by user. Business id is not included. \n",
    "df_rev.groupby(\"user_id\",\"stars\").count().orderBy([\"count\",\"user_id\",\"stars\"],ascending = [0,1,0]).show()"
   ]
  },
  {
   "cell_type": "code",
   "execution_count": 178,
   "metadata": {
    "collapsed": false
   },
   "outputs": [],
   "source": [
    "#pdf2 = df_rev.groupby(\"user_id\",\"stars\").count().orderBy([\"count\",\"user_id\",\"stars\"],ascending = [0,1,0]).take(50).toPandas()\n",
    "#pdf2.to_csv(\"TopReviewCountByUserWithStarsDetails\",index=False)"
   ]
  },
  {
   "cell_type": "markdown",
   "metadata": {},
   "source": [
    "# Way to convert a DF to rdd"
   ]
  },
  {
   "cell_type": "code",
   "execution_count": 23,
   "metadata": {
    "collapsed": true
   },
   "outputs": [],
   "source": [
    "#Way to convert a DF to rdd\n",
    "rdd = df_rev.rdd"
   ]
  },
  {
   "cell_type": "markdown",
   "metadata": {},
   "source": [
    "#### mapping rating and review - sample code"
   ]
  },
  {
   "cell_type": "code",
   "execution_count": 26,
   "metadata": {
    "collapsed": false
   },
   "outputs": [
    {
     "data": {
      "text/plain": [
       "[(5,\n",
       "  u\"Super simple place but amazing nonetheless. It's been around since the 30's and they still serve the same thing they started with: a bologna and salami sandwich with mustard. Staff was very helpful and friendly.\")]"
      ]
     },
     "execution_count": 26,
     "metadata": {},
     "output_type": "execute_result"
    }
   ],
   "source": [
    "#mapping rating and review\n",
    "pairs = rdd.map(lambda x: (x[3],x[5]))\n",
    "pairs.take(1)"
   ]
  },
  {
   "cell_type": "markdown",
   "metadata": {},
   "source": [
    "### create a list of punctuation characters to be replaced by space"
   ]
  },
  {
   "cell_type": "code",
   "execution_count": 162,
   "metadata": {
    "collapsed": true
   },
   "outputs": [],
   "source": [
    "#create a list of punctuation characters to be replaced by space\n",
    "table = dict((ord(char), None) for char in string.punctuation)"
   ]
  },
  {
   "cell_type": "code",
   "execution_count": 161,
   "metadata": {
    "collapsed": true
   },
   "outputs": [],
   "source": [
    "#Create a list of stopwords. This list is not exhaustive. Needs to be updated whan a new stop word is identified.\n",
    "stop1 = [\"said\", 'im',\"went\", \"de\",'got',\"la\",\"un\",\"et\",\"ive\", 'go', 'my',' ','an','from','there','what','they','when','we','which','their','how', 'its', 'would', 'if', 'were', 'has', 'because', 'by', 'them', 'we', 'had', 'they', 'us', 'your', 'or', 'me', 'these', 'those', 'after', 'before', 'will', 'off', 'up', 'down', 'out', 'be', 'all', 'at', 'just', 'the', 'are', 'one', 'not', '', 'the', 'i', 'and', 'to', 'it', 'a', 'for', 'any', 'this', 'is', 'my', 'of', 'in', 'with', 'have', 'as', 'on', 'that', 'so', 'you', 'this', 'but', 'was', 'it']\n",
    "\n",
    "from nltk.corpus import stopwords\n",
    "stop2 = stopwords.words(\"english\")\n",
    "stop = stop1+stop2"
   ]
  },
  {
   "cell_type": "code",
   "execution_count": 179,
   "metadata": {
    "collapsed": false
   },
   "outputs": [],
   "source": [
    "#Python 3 code to remove punctuations\n",
    "#translator = string.maketrans(string.punctuation, ' '*len(string.punctuation))\n",
    "#text = \"He is amazing.!isn't he?\"\n",
    "#print text.translate(translator)"
   ]
  },
  {
   "cell_type": "code",
   "execution_count": 224,
   "metadata": {
    "collapsed": false,
    "scrolled": true
   },
   "outputs": [
    {
     "data": {
      "text/plain": [
       "[(u'unmadei', 1),\n",
       " (u'usuallyand', 1),\n",
       " (u'allowedhoover', 1),\n",
       " (u'roughwent', 1),\n",
       " (u'nunnery', 6),\n",
       " (u'realsuper', 1),\n",
       " (u'ownershiphave', 1),\n",
       " (u'nallez', 27),\n",
       " (u'seeservice', 5),\n",
       " (u'diabetesheart', 1),\n",
       " (u'havefunlaughssnacksconversation', 1),\n",
       " (u'tfaya', 4),\n",
       " (u'cmonbutconfession', 1),\n",
       " (u'soupsalad18', 1),\n",
       " (u'standardfinal', 1),\n",
       " (u'adoptionvery', 1),\n",
       " (u'preferablebeing', 1),\n",
       " (u'rojovery', 1),\n",
       " (u'safewaysomething', 2),\n",
       " (u'cfb', 10),\n",
       " (u'thatsuite', 1),\n",
       " (u'notconcessions', 1),\n",
       " (u'mealperiod', 1),\n",
       " (u'paringyouve', 1),\n",
       " (u'piratesdont', 1),\n",
       " (u'cycologists', 2),\n",
       " (u'offendeddo', 1),\n",
       " (u'letmetakeoutasecondmortgage', 1),\n",
       " (u'considereda', 2),\n",
       " (u'ontariotoo', 1),\n",
       " (u'didntapologise', 1),\n",
       " (u'effortvery', 1),\n",
       " (u'gueulecaf\\xe3\\xa9', 1),\n",
       " (u'stapelt', 2),\n",
       " (u'anywaysfooddrink', 1),\n",
       " (u'towingrepo', 1),\n",
       " (u'screaming', 10999),\n",
       " (u'weell', 1),\n",
       " (u'mousquetairesqc', 1),\n",
       " (u'curvefrom', 1),\n",
       " (u'mehhhreally', 1),\n",
       " (u'placewatch', 1),\n",
       " (u'warmhei\\xe3\\x9f', 1),\n",
       " (u'multiorgan', 1),\n",
       " (u'drinkhim', 2),\n",
       " (u'realizedholy', 1),\n",
       " (u'tempurazucchini', 1),\n",
       " (u'pork\\xef\\xbc\\x89\\xe3\\x80\\x81\\xe6\\xb6\\xbc\\xe6\\x8b\\x8c\\xe8\\x9c\\x87\\xe7\\x9a\\xae\\xef\\xbc\\x88jelly',\n",
       "  1),\n",
       " (u'servedto', 8),\n",
       " (u'mcdonaldss', 5),\n",
       " (u'coordinate', 1209),\n",
       " (u'opensome', 5),\n",
       " (u'wartehallezu', 1),\n",
       " (u'complainers', 247),\n",
       " (u'270', 622),\n",
       " (u'belegtschlemmerzunge', 1),\n",
       " (u'admittedlybecause', 1),\n",
       " (u'shortrooms', 3),\n",
       " (u'baconbetter', 1),\n",
       " (u'anythingnewer', 1),\n",
       " (u'englishjoe', 3),\n",
       " (u'crujientescrispy', 1),\n",
       " (u'manufacturerbottom', 1),\n",
       " (u'deepfriedpanfriedgrilled', 1),\n",
       " (u'isbit', 1),\n",
       " (u'nightlikes', 1),\n",
       " (u'1295if', 1),\n",
       " (u'anbauten', 2),\n",
       " (u'basementtheres', 1),\n",
       " (u'readunderstand', 6),\n",
       " (u'impartialwhen', 1),\n",
       " (u'jumbledbut', 1),\n",
       " (u'asleepim', 1),\n",
       " (u'3516whelp', 1),\n",
       " (u'hyperenergetic', 1),\n",
       " (u'998gallon', 1),\n",
       " (u'good710long', 1),\n",
       " (u'wagya', 3),\n",
       " (u'robertmatt', 1),\n",
       " (u'beuregard', 1),\n",
       " (u'quidad', 1),\n",
       " (u'westerneracting', 1),\n",
       " (u'21615', 13),\n",
       " (u'jland', 1),\n",
       " (u'900you', 1),\n",
       " (u'explanationsenjoy', 1),\n",
       " (u'kidx', 1),\n",
       " (u'casesafety', 1),\n",
       " (u'prepostwhatever', 1),\n",
       " (u'cleantouristsno', 1),\n",
       " (u'pilsneralthough', 1),\n",
       " (u'8get', 1),\n",
       " (u'snowat', 1),\n",
       " (u'flooragain', 2),\n",
       " (u'cheesefyi', 1),\n",
       " (u'lettucechinoisla', 1),\n",
       " (u'anheben', 6),\n",
       " (u'somebodyso', 2),\n",
       " (u'piranhaomgall', 1),\n",
       " (u'removertissues', 1)]"
      ]
     },
     "execution_count": 224,
     "metadata": {},
     "output_type": "execute_result"
    }
   ],
   "source": [
    "def analyse_eachline(eachline):\n",
    "    #Splitting the review after lowering and removing punctuations\n",
    "    text = [w for w in eachline[5].lower().translate(table).split(\" \") if w not in stop]\n",
    "    return((word,1) for word in text)\n",
    "top_words_rdd = rdd.flatMap(analyse_eachline).reduceByKey(lambda x, y: x+y)\n",
    "top_words_rdd.take(100)"
   ]
  },
  {
   "cell_type": "code",
   "execution_count": 225,
   "metadata": {
    "collapsed": true
   },
   "outputs": [],
   "source": [
    "final_list = top_words_rdd.sortBy(lambda x:x[1],ascending=False)"
   ]
  },
  {
   "cell_type": "markdown",
   "metadata": {},
   "source": [
    "# Top 100 words from \"all reviews\""
   ]
  },
  {
   "cell_type": "code",
   "execution_count": 227,
   "metadata": {
    "collapsed": false
   },
   "outputs": [
    {
     "data": {
      "text/plain": [
       "[(u'place', 2581149),\n",
       " (u'food', 2576028),\n",
       " (u'good', 2545001),\n",
       " (u'great', 2248598),\n",
       " (u'like', 1885330),\n",
       " (u'service', 1810121),\n",
       " (u'time', 1772471),\n",
       " (u'get', 1760261),\n",
       " (u'back', 1534258),\n",
       " (u'really', 1368903),\n",
       " (u'also', 1135165),\n",
       " (u'dont', 1016651),\n",
       " (u'even', 1006224),\n",
       " (u'nice', 974749),\n",
       " (u'well', 914616),\n",
       " (u'best', 908324),\n",
       " (u'didnt', 844421),\n",
       " (u'always', 841008),\n",
       " (u'came', 829779),\n",
       " (u'love', 823516),\n",
       " (u'ordered', 816249),\n",
       " (u'staff', 809908),\n",
       " (u'first', 788669),\n",
       " (u'order', 768717),\n",
       " (u'little', 763957),\n",
       " (u'never', 762256),\n",
       " (u'friendly', 753934),\n",
       " (u'restaurant', 751087),\n",
       " (u'could', 739546),\n",
       " (u'much', 734349),\n",
       " (u'try', 733398),\n",
       " (u'people', 732080),\n",
       " (u'come', 731388),\n",
       " (u'definitely', 714829),\n",
       " (u'chicken', 707936),\n",
       " (u'make', 656569),\n",
       " (u'made', 650537),\n",
       " (u'experience', 649362),\n",
       " (u'pretty', 642130),\n",
       " (u'amazing', 640383),\n",
       " (u'menu', 631585),\n",
       " (u'going', 627682),\n",
       " (u'know', 620747),\n",
       " (u'delicious', 610674),\n",
       " (u'better', 605637),\n",
       " (u'way', 594908),\n",
       " (u'two', 588298),\n",
       " (u'new', 577812),\n",
       " (u'day', 573744),\n",
       " (u'recommend', 560777),\n",
       " (u'right', 555163),\n",
       " (u'want', 551359),\n",
       " (u'wait', 542021),\n",
       " (u'take', 531046),\n",
       " (u'say', 528412),\n",
       " (u'still', 524267),\n",
       " (u'ever', 524256),\n",
       " (u'see', 523628),\n",
       " (u'sure', 521651),\n",
       " (u'around', 521424),\n",
       " (u'night', 516040),\n",
       " (u'everything', 515887),\n",
       " (u'bar', 513944),\n",
       " (u'think', 511491),\n",
       " (u'2', 500505),\n",
       " (u'took', 487639),\n",
       " (u'give', 483348),\n",
       " (u'told', 479898),\n",
       " (u'since', 478442),\n",
       " (u'minutes', 474939),\n",
       " (u'vegas', 474887),\n",
       " (u'fresh', 474540),\n",
       " (u'room', 473808),\n",
       " (u'price', 472201),\n",
       " (u'next', 464562),\n",
       " (u'every', 464106),\n",
       " (u'pizza', 463923),\n",
       " (u'work', 461668),\n",
       " (u'eat', 459878),\n",
       " (u'wasnt', 455698),\n",
       " (u'times', 454393),\n",
       " (u'another', 452598),\n",
       " (u'location', 448610),\n",
       " (u'bit', 445849),\n",
       " (u'asked', 445385),\n",
       " (u'bad', 444511),\n",
       " (u'sauce', 441909),\n",
       " (u'find', 440700),\n",
       " (u'many', 440562),\n",
       " (u'table', 439337),\n",
       " (u'area', 437913),\n",
       " (u'small', 434999),\n",
       " (u'cant', 434678),\n",
       " (u'cheese', 429598),\n",
       " (u'lot', 420634),\n",
       " (u'something', 414438),\n",
       " (u'lunch', 406079),\n",
       " (u'though', 402971),\n",
       " (u'last', 399160),\n",
       " (u'long', 398657)]"
      ]
     },
     "execution_count": 227,
     "metadata": {},
     "output_type": "execute_result"
    }
   ],
   "source": [
    "#Top 100 words from \"all reviews\"\n",
    "final_list.take(100)"
   ]
  },
  {
   "cell_type": "code",
   "execution_count": 163,
   "metadata": {
    "collapsed": false
   },
   "outputs": [],
   "source": [
    "pairs = rdd.map(lambda x: (x[3],x[5].lower().translate(table)))\n",
    "pairs1 = pairs.flatMapValues(lambda x: x.split(\" \")).filter(lambda x: not x[1] in stop)\n",
    "pairs2 = pairs1.map(lambda x: (x, 1)).reduceByKey(lambda x, y: x+y)"
   ]
  },
  {
   "cell_type": "code",
   "execution_count": 117,
   "metadata": {
    "collapsed": false
   },
   "outputs": [
    {
     "data": {
      "text/plain": [
       "[((4, u'dairyfreezer'), 1),\n",
       " ((3, u'batterthere'), 1),\n",
       " ((1, u'backworkers'), 3),\n",
       " ((4, u'drugsbut'), 1),\n",
       " ((5, u'bestmore'), 2),\n",
       " ((1, u'cashierassistant'), 1),\n",
       " ((4, u'selectionbetween'), 1),\n",
       " ((4, u'inrepair'), 1),\n",
       " ((5, u'tortellinigrand'), 1),\n",
       " ((4, u'vehiclesalso'), 1),\n",
       " ((1, u'downfuckinghill'), 1),\n",
       " ((3, u'biegnets'), 1),\n",
       " ((1, u'r\\xe3\\xa8gle'), 5),\n",
       " ((3, u'morsette'), 1),\n",
       " ((3, u'leaky'), 85),\n",
       " ((3, u'onionsone'), 2),\n",
       " ((5, u'omelettechicken'), 1),\n",
       " ((3, u'argueably'), 1),\n",
       " ((4, u'childof'), 1),\n",
       " ((4, u'sorely'), 308),\n",
       " ((2, u'yeey'), 2),\n",
       " ((5, u'sameol'), 5),\n",
       " ((2, u'awfulcommercial'), 1),\n",
       " ((4, u'quitany'), 1),\n",
       " ((5, u'probierenswert'), 1),\n",
       " ((2, u'bikeif'), 1),\n",
       " ((5, u'dow'), 37),\n",
       " ((1, u'l4l5'), 3),\n",
       " ((5, u'cheesecakecookies'), 1),\n",
       " ((5, u'restaurantreview'), 2),\n",
       " ((5, u'brewedgreat'), 1),\n",
       " ((1, u'palettefyi'), 1),\n",
       " ((4, u'overchargedmaybe'), 1),\n",
       " ((4, u'looktwo'), 2),\n",
       " ((3, u'supertasting'), 1),\n",
       " ((3, u'tidynow'), 1),\n",
       " ((4, u'envelope3'), 1),\n",
       " ((1, u'refil'), 30),\n",
       " ((5, u'perspectiveswell'), 1),\n",
       " ((2, u'seatstealers'), 1),\n",
       " ((4, u'casualindustrial'), 1),\n",
       " ((4, u'wentoff'), 1),\n",
       " ((2, u'6its'), 2),\n",
       " ((3, u'gorgeousmy'), 1),\n",
       " ((4, u'14000special'), 1),\n",
       " ((3, u'lawso'), 1),\n",
       " ((4, u'orderedappetizers2'), 1),\n",
       " ((4, u'checknice'), 5),\n",
       " ((2, u'billnegatives'), 1),\n",
       " ((4, u'm\\xe3\\xb6beldie'), 1)]"
      ]
     },
     "execution_count": 117,
     "metadata": {},
     "output_type": "execute_result"
    }
   ],
   "source": [
    "pairs2.take(50)"
   ]
  },
  {
   "cell_type": "markdown",
   "metadata": {},
   "source": [
    "#### Top words split by rating"
   ]
  },
  {
   "cell_type": "code",
   "execution_count": 165,
   "metadata": {
    "collapsed": false
   },
   "outputs": [
    {
     "data": {
      "text/plain": [
       "[((5, u'great'), 1224604),\n",
       " ((5, u'place'), 1008902),\n",
       " ((4, u'good'), 867820),\n",
       " ((5, u'food'), 846899),\n",
       " ((5, u'good'), 765666),\n",
       " ((5, u'service'), 684897),\n",
       " ((5, u'time'), 662588),\n",
       " ((4, u'place'), 661854),\n",
       " ((4, u'food'), 656216),\n",
       " ((4, u'great'), 638370),\n",
       " ((5, u'best'), 560469),\n",
       " ((5, u'get'), 558592),\n",
       " ((5, u'like'), 546309),\n",
       " ((5, u'back'), 532997),\n",
       " ((5, u'love'), 487222),\n",
       " ((4, u'like'), 485185),\n",
       " ((3, u'good'), 479307),\n",
       " ((5, u'amazing'), 461273),\n",
       " ((5, u'really'), 458826),\n",
       " ((5, u'always'), 450665),\n",
       " ((5, u'also'), 450450),\n",
       " ((5, u'friendly'), 411745),\n",
       " ((3, u'food'), 406891),\n",
       " ((4, u'get'), 405082),\n",
       " ((4, u'really'), 404567),\n",
       " ((5, u'staff'), 389037),\n",
       " ((4, u'time'), 383977),\n",
       " ((4, u'service'), 373095),\n",
       " ((5, u'well'), 365983),\n",
       " ((1, u'get'), 362215),\n",
       " ((5, u'definitely'), 358904),\n",
       " ((1, u'food'), 349708),\n",
       " ((5, u'recommend'), 348527),\n",
       " ((3, u'place'), 342804),\n",
       " ((5, u'nice'), 342597),\n",
       " ((1, u'back'), 341183),\n",
       " ((1, u'service'), 337340),\n",
       " ((1, u'place'), 334570),\n",
       " ((5, u'delicious'), 333940),\n",
       " ((5, u'even'), 331422),\n",
       " ((1, u'time'), 330350),\n",
       " ((4, u'also'), 327395),\n",
       " ((4, u'back'), 322908),\n",
       " ((4, u'nice'), 320509),\n",
       " ((2, u'food'), 316314),\n",
       " ((3, u'like'), 314063),\n",
       " ((1, u'like'), 305207),\n",
       " ((5, u'first'), 290362),\n",
       " ((5, u'try'), 285176),\n",
       " ((5, u'made'), 275549)]"
      ]
     },
     "execution_count": 165,
     "metadata": {},
     "output_type": "execute_result"
    }
   ],
   "source": [
    "pairs3 = pairs2.sortBy(lambda x:x[1],ascending=False)\n",
    "pairs3.take(50)"
   ]
  },
  {
   "cell_type": "markdown",
   "metadata": {},
   "source": [
    "# top50 words in 5* reviews"
   ]
  },
  {
   "cell_type": "code",
   "execution_count": 167,
   "metadata": {
    "collapsed": false
   },
   "outputs": [
    {
     "data": {
      "text/plain": [
       "[((5, u'great'), 1224604),\n",
       " ((5, u'place'), 1008902),\n",
       " ((5, u'food'), 846899),\n",
       " ((5, u'good'), 765666),\n",
       " ((5, u'service'), 684897),\n",
       " ((5, u'time'), 662588),\n",
       " ((5, u'best'), 560469),\n",
       " ((5, u'get'), 558592),\n",
       " ((5, u'like'), 546309),\n",
       " ((5, u'back'), 532997),\n",
       " ((5, u'love'), 487222),\n",
       " ((5, u'amazing'), 461273),\n",
       " ((5, u'really'), 458826),\n",
       " ((5, u'always'), 450665),\n",
       " ((5, u'also'), 450450),\n",
       " ((5, u'friendly'), 411745),\n",
       " ((5, u'staff'), 389037),\n",
       " ((5, u'well'), 365983),\n",
       " ((5, u'definitely'), 358904),\n",
       " ((5, u'recommend'), 348527),\n",
       " ((5, u'nice'), 342597),\n",
       " ((5, u'delicious'), 333940),\n",
       " ((5, u'even'), 331422),\n",
       " ((5, u'first'), 290362),\n",
       " ((5, u'try'), 285176),\n",
       " ((5, u'made'), 275549),\n",
       " ((5, u'experience'), 273807),\n",
       " ((5, u'dont'), 268513),\n",
       " ((5, u'new'), 263716),\n",
       " ((5, u'come'), 257232),\n",
       " ((5, u'everything'), 256873),\n",
       " ((5, u'make'), 256651),\n",
       " ((5, u'awesome'), 247757),\n",
       " ((5, u'came'), 244475),\n",
       " ((5, u'restaurant'), 243102),\n",
       " ((5, u'every'), 239920),\n",
       " ((5, u'ever'), 238966),\n",
       " ((5, u'never'), 236638),\n",
       " ((5, u'little'), 236089),\n",
       " ((5, u'vegas'), 232560),\n",
       " ((5, u'much'), 229406),\n",
       " ((5, u'work'), 221609),\n",
       " ((5, u'day'), 219858),\n",
       " ((5, u'going'), 218191),\n",
       " ((5, u'fresh'), 217902),\n",
       " ((5, u'people'), 217681),\n",
       " ((5, u'chicken'), 216196),\n",
       " ((5, u'right'), 213867),\n",
       " ((5, u'could'), 212938),\n",
       " ((5, u'menu'), 208274)]"
      ]
     },
     "execution_count": 167,
     "metadata": {},
     "output_type": "execute_result"
    }
   ],
   "source": [
    "#top50 words in 5* reviews\n",
    "pairs4 = pairs3.filter(lambda x: x[0][0] == 5)\n",
    "pairs4.take(50)"
   ]
  },
  {
   "cell_type": "markdown",
   "metadata": {},
   "source": [
    "# top50 words in 4* reviews"
   ]
  },
  {
   "cell_type": "code",
   "execution_count": 168,
   "metadata": {
    "collapsed": false
   },
   "outputs": [
    {
     "data": {
      "text/plain": [
       "[((4, u'good'), 867820),\n",
       " ((4, u'place'), 661854),\n",
       " ((4, u'food'), 656216),\n",
       " ((4, u'great'), 638370),\n",
       " ((4, u'like'), 485185),\n",
       " ((4, u'get'), 405082),\n",
       " ((4, u'really'), 404567),\n",
       " ((4, u'time'), 383977),\n",
       " ((4, u'service'), 373095),\n",
       " ((4, u'also'), 327395),\n",
       " ((4, u'back'), 322908),\n",
       " ((4, u'nice'), 320509),\n",
       " ((4, u'little'), 267705),\n",
       " ((4, u'well'), 252583),\n",
       " ((4, u'pretty'), 229618),\n",
       " ((4, u'dont'), 220597),\n",
       " ((4, u'definitely'), 220238),\n",
       " ((4, u'always'), 218707),\n",
       " ((4, u'chicken'), 218265),\n",
       " ((4, u'try'), 211095),\n",
       " ((4, u'ordered'), 209627),\n",
       " ((4, u'love'), 208236),\n",
       " ((4, u'delicious'), 204624),\n",
       " ((4, u'friendly'), 204157),\n",
       " ((4, u'menu'), 202521),\n",
       " ((4, u'restaurant'), 199042),\n",
       " ((4, u'much'), 181760),\n",
       " ((4, u'came'), 181643),\n",
       " ((4, u'even'), 181387),\n",
       " ((4, u'best'), 180879),\n",
       " ((4, u'order'), 179605),\n",
       " ((4, u'staff'), 176272),\n",
       " ((4, u'didnt'), 174570),\n",
       " ((4, u'come'), 172169),\n",
       " ((4, u'first'), 170673),\n",
       " ((4, u'bit'), 168366),\n",
       " ((4, u'people'), 164719),\n",
       " ((4, u'bar'), 158676),\n",
       " ((4, u'fresh'), 152175),\n",
       " ((4, u'could'), 147281),\n",
       " ((4, u'night'), 146535),\n",
       " ((4, u'made'), 144590),\n",
       " ((4, u'make'), 141431),\n",
       " ((4, u'sauce'), 140558),\n",
       " ((4, u'lunch'), 139885),\n",
       " ((4, u'right'), 137948),\n",
       " ((4, u'think'), 136726),\n",
       " ((4, u'cheese'), 135998),\n",
       " ((4, u'two'), 135306),\n",
       " ((4, u'area'), 134674)]"
      ]
     },
     "execution_count": 168,
     "metadata": {},
     "output_type": "execute_result"
    }
   ],
   "source": [
    "#top50 words in 4* reviews\n",
    "pairs5 = pairs3.filter(lambda x: x[0][0] == 4)\n",
    "pairs5.take(50)"
   ]
  },
  {
   "cell_type": "markdown",
   "metadata": {},
   "source": [
    "# top50 words in 3* reviews"
   ]
  },
  {
   "cell_type": "code",
   "execution_count": 169,
   "metadata": {
    "collapsed": false
   },
   "outputs": [
    {
     "data": {
      "text/plain": [
       "[((3, u'good'), 479307),\n",
       " ((3, u'food'), 406891),\n",
       " ((3, u'place'), 342804),\n",
       " ((3, u'like'), 314063),\n",
       " ((3, u'get'), 239916),\n",
       " ((3, u'service'), 225705),\n",
       " ((3, u'really'), 224521),\n",
       " ((3, u'time'), 214104),\n",
       " ((3, u'great'), 202708),\n",
       " ((3, u'back'), 174496),\n",
       " ((3, u'nice'), 163167),\n",
       " ((3, u'pretty'), 156709),\n",
       " ((3, u'dont'), 153645),\n",
       " ((3, u'also'), 150111),\n",
       " ((3, u'ordered'), 144444),\n",
       " ((3, u'didnt'), 143416),\n",
       " ((3, u'little'), 139464),\n",
       " ((3, u'much'), 128070),\n",
       " ((3, u'came'), 123360),\n",
       " ((3, u'chicken'), 119346),\n",
       " ((3, u'order'), 117193),\n",
       " ((3, u'restaurant'), 117158),\n",
       " ((3, u'better'), 112940),\n",
       " ((3, u'well'), 112597),\n",
       " ((3, u'even'), 107412),\n",
       " ((3, u'menu'), 106883),\n",
       " ((3, u'try'), 106745),\n",
       " ((3, u'bit'), 105116),\n",
       " ((3, u'people'), 103799),\n",
       " ((3, u'wasnt'), 103584),\n",
       " ((3, u'come'), 101856),\n",
       " ((3, u'think'), 101383),\n",
       " ((3, u'could'), 100565),\n",
       " ((3, u'first'), 97917),\n",
       " ((3, u'though'), 89327),\n",
       " ((3, u'bar'), 87753),\n",
       " ((3, u'way'), 85479),\n",
       " ((3, u'bad'), 84087),\n",
       " ((3, u'still'), 83716),\n",
       " ((3, u'staff'), 82592),\n",
       " ((3, u'two'), 82475),\n",
       " ((3, u'3'), 81034),\n",
       " ((3, u'night'), 80168),\n",
       " ((3, u'small'), 79899),\n",
       " ((3, u'ok'), 79651),\n",
       " ((3, u'sauce'), 78638),\n",
       " ((3, u'price'), 78545),\n",
       " ((3, u'around'), 77873),\n",
       " ((3, u'know'), 77803),\n",
       " ((3, u'want'), 76681)]"
      ]
     },
     "execution_count": 169,
     "metadata": {},
     "output_type": "execute_result"
    }
   ],
   "source": [
    "#top50 words in 3* reviews\n",
    "pairs6 = pairs3.filter(lambda x: x[0][0] == 3)\n",
    "pairs6.take(50)"
   ]
  },
  {
   "cell_type": "markdown",
   "metadata": {},
   "source": [
    "# top50 words in 2* reviews"
   ]
  },
  {
   "cell_type": "code",
   "execution_count": 170,
   "metadata": {
    "collapsed": false
   },
   "outputs": [
    {
     "data": {
      "text/plain": [
       "[((2, u'food'), 316314),\n",
       " ((2, u'good'), 242054),\n",
       " ((2, u'like'), 234566),\n",
       " ((2, u'place'), 233019),\n",
       " ((2, u'get'), 194456),\n",
       " ((2, u'service'), 189084),\n",
       " ((2, u'time'), 181452),\n",
       " ((2, u'back'), 162674),\n",
       " ((2, u'really'), 146469),\n",
       " ((2, u'didnt'), 129797),\n",
       " ((2, u'dont'), 129459),\n",
       " ((2, u'ordered'), 125034),\n",
       " ((2, u'even'), 120361),\n",
       " ((2, u'came'), 109762),\n",
       " ((2, u'order'), 107202),\n",
       " ((2, u'great'), 101918),\n",
       " ((2, u'better'), 98351),\n",
       " ((2, u'much'), 96402),\n",
       " ((2, u'also'), 90933),\n",
       " ((2, u'restaurant'), 87707),\n",
       " ((2, u'could'), 87633),\n",
       " ((2, u'first'), 85901),\n",
       " ((2, u'people'), 85189),\n",
       " ((2, u'nice'), 82738),\n",
       " ((2, u'two'), 82738),\n",
       " ((2, u'minutes'), 82476),\n",
       " ((2, u'wasnt'), 79789),\n",
       " ((2, u'2'), 79679),\n",
       " ((2, u'chicken'), 79495),\n",
       " ((2, u'asked'), 77499),\n",
       " ((2, u'never'), 76213),\n",
       " ((2, u'well'), 75287),\n",
       " ((2, u'pretty'), 74813),\n",
       " ((2, u'way'), 73922),\n",
       " ((2, u'going'), 73053),\n",
       " ((2, u'bad'), 72680),\n",
       " ((2, u'come'), 72465),\n",
       " ((2, u'know'), 72071),\n",
       " ((2, u'table'), 68223),\n",
       " ((2, u'think'), 67379),\n",
       " ((2, u'another'), 65925),\n",
       " ((2, u'told'), 65837),\n",
       " ((2, u'took'), 65391),\n",
       " ((2, u'experience'), 64991),\n",
       " ((2, u'staff'), 64512),\n",
       " ((2, u'little'), 64511),\n",
       " ((2, u'menu'), 64243),\n",
       " ((2, u'make'), 63932),\n",
       " ((2, u'room'), 62337),\n",
       " ((2, u'say'), 61462)]"
      ]
     },
     "execution_count": 170,
     "metadata": {},
     "output_type": "execute_result"
    }
   ],
   "source": [
    "#top50 words in 2* reviews\n",
    "pairs7 = pairs3.filter(lambda x: x[0][0] == 2)\n",
    "pairs7.take(50)"
   ]
  },
  {
   "cell_type": "markdown",
   "metadata": {},
   "source": [
    "# top50 words in 1* reviews"
   ]
  },
  {
   "cell_type": "code",
   "execution_count": 171,
   "metadata": {
    "collapsed": false
   },
   "outputs": [
    {
     "data": {
      "text/plain": [
       "[((1, u'get'), 362215),\n",
       " ((1, u'food'), 349708),\n",
       " ((1, u'back'), 341183),\n",
       " ((1, u'service'), 337340),\n",
       " ((1, u'place'), 334570),\n",
       " ((1, u'time'), 330350),\n",
       " ((1, u'like'), 305207),\n",
       " ((1, u'never'), 269983),\n",
       " ((1, u'even'), 265642),\n",
       " ((1, u'told'), 255913),\n",
       " ((1, u'dont'), 244437),\n",
       " ((1, u'didnt'), 220487),\n",
       " ((1, u'asked'), 191198),\n",
       " ((1, u'could'), 191129),\n",
       " ((1, u'good'), 190154),\n",
       " ((1, u'order'), 182396),\n",
       " ((1, u'minutes'), 172731),\n",
       " ((1, u'came'), 170539),\n",
       " ((1, u'people'), 160692),\n",
       " ((1, u'customer'), 149563),\n",
       " ((1, u'going'), 144402),\n",
       " ((1, u'know'), 144212),\n",
       " ((1, u'first'), 143816),\n",
       " ((1, u'called'), 142970),\n",
       " ((1, u'ordered'), 141782),\n",
       " ((1, u'another'), 138221),\n",
       " ((1, u'ever'), 136457),\n",
       " ((1, u'really'), 134520),\n",
       " ((1, u'took'), 128685),\n",
       " ((1, u'bad'), 128424),\n",
       " ((1, u'manager'), 127705),\n",
       " ((1, u'come'), 127666),\n",
       " ((1, u'take'), 126429),\n",
       " ((1, u'car'), 125857),\n",
       " ((1, u'give'), 123892),\n",
       " ((1, u'way'), 120426),\n",
       " ((1, u'still'), 119532),\n",
       " ((1, u'experience'), 119430),\n",
       " ((1, u'2'), 118925),\n",
       " ((1, u'make'), 118417),\n",
       " ((1, u'call'), 118234),\n",
       " ((1, u'day'), 117580),\n",
       " ((1, u'two'), 116380),\n",
       " ((1, u'also'), 116276),\n",
       " ((1, u'want'), 112944),\n",
       " ((1, u'money'), 110960),\n",
       " ((1, u'well'), 108166),\n",
       " ((1, u'left'), 107930),\n",
       " ((1, u'restaurant'), 104078),\n",
       " ((1, u'say'), 102954)]"
      ]
     },
     "execution_count": 171,
     "metadata": {},
     "output_type": "execute_result"
    }
   ],
   "source": [
    "#top20 words in 1* reviews\n",
    "pairs8 = pairs3.filter(lambda x: x[0][0] == 1)\n",
    "pairs8.take(50)"
   ]
  },
  {
   "cell_type": "markdown",
   "metadata": {
    "collapsed": true
   },
   "source": [
    "# Top 50 words from reviews which were found useful by users."
   ]
  },
  {
   "cell_type": "code",
   "execution_count": 240,
   "metadata": {
    "collapsed": true
   },
   "outputs": [],
   "source": [
    "upairs = rdd.map(lambda x: (x[6],x[5].lower().translate(table))).filter(lambda x: x[0] != 0)\n",
    "upairs1 = upairs.flatMapValues(lambda x: x.split(\" \")).filter(lambda x: not x[1] in stop)\n",
    "upairs2 = upairs1.map(lambda x: (x[1], 1)).reduceByKey(lambda x, y: x+y)"
   ]
  },
  {
   "cell_type": "code",
   "execution_count": 241,
   "metadata": {
    "collapsed": false,
    "scrolled": true
   },
   "outputs": [
    {
     "data": {
      "text/plain": [
       "[(u'place', 1417723),\n",
       " (u'good', 1340872),\n",
       " (u'food', 1298282),\n",
       " (u'like', 1169151),\n",
       " (u'get', 1072381),\n",
       " (u'great', 1070939),\n",
       " (u'time', 1016232),\n",
       " (u'service', 907100),\n",
       " (u'back', 873823),\n",
       " (u'really', 805784),\n",
       " (u'also', 678480),\n",
       " (u'dont', 635981),\n",
       " (u'even', 620299),\n",
       " (u'well', 536344),\n",
       " (u'nice', 534193),\n",
       " (u'didnt', 523360),\n",
       " (u'came', 487910),\n",
       " (u'first', 471772),\n",
       " (u'best', 462061),\n",
       " (u'could', 461172),\n",
       " (u'never', 457047),\n",
       " (u'ordered', 456697),\n",
       " (u'little', 455495),\n",
       " (u'people', 454733),\n",
       " (u'much', 448882),\n",
       " (u'order', 438614),\n",
       " (u'always', 429483),\n",
       " (u'love', 424308),\n",
       " (u'come', 421488),\n",
       " (u'restaurant', 421212),\n",
       " (u'try', 417133),\n",
       " (u'staff', 415288),\n",
       " (u'know', 400053),\n",
       " (u'make', 397293),\n",
       " (u'chicken', 387623),\n",
       " (u'pretty', 385789),\n",
       " (u'made', 383502),\n",
       " (u'going', 379358),\n",
       " (u'definitely', 372030),\n",
       " (u'friendly', 370925),\n",
       " (u'two', 369599),\n",
       " (u'experience', 368363),\n",
       " (u'menu', 367908),\n",
       " (u'way', 367190),\n",
       " (u'day', 352815),\n",
       " (u'new', 349687),\n",
       " (u'better', 348926),\n",
       " (u'want', 344924),\n",
       " (u'right', 339129),\n",
       " (u'see', 336268)]"
      ]
     },
     "execution_count": 241,
     "metadata": {},
     "output_type": "execute_result"
    }
   ],
   "source": [
    "upairs2.sortBy(lambda x:x[1],ascending=False).take(50)"
   ]
  },
  {
   "cell_type": "code",
   "execution_count": 246,
   "metadata": {
    "collapsed": false
   },
   "outputs": [
    {
     "data": {
      "text/plain": [
       "[u'cycle',\n",
       " u'pub',\n",
       " u'las',\n",
       " u'vegas',\n",
       " u'blast',\n",
       " u'groupon',\n",
       " u'rented',\n",
       " u'bike',\n",
       " u'11',\n",
       " u'afternoon']"
      ]
     },
     "execution_count": 246,
     "metadata": {},
     "output_type": "execute_result"
    }
   ],
   "source": [
    "useful_words = upairs1.map(lambda x: x[1]).collect()"
   ]
  },
  {
   "cell_type": "markdown",
   "metadata": {
    "collapsed": true
   },
   "source": [
    "# Top 50 words from reviews which were found funny by users."
   ]
  },
  {
   "cell_type": "code",
   "execution_count": 242,
   "metadata": {
    "collapsed": true
   },
   "outputs": [],
   "source": [
    "fpairs = rdd.map(lambda x: (x[7],x[5].lower().translate(table))).filter(lambda x: x[0] != 0)\n",
    "fpairs1 = fpairs.flatMapValues(lambda x: x.split(\" \")).filter(lambda x: not x[1] in stop)\n",
    "fpairs2 = fpairs1.map(lambda x: (x[1], 1)).reduceByKey(lambda x, y: x+y)"
   ]
  },
  {
   "cell_type": "code",
   "execution_count": 243,
   "metadata": {
    "collapsed": false,
    "scrolled": true
   },
   "outputs": [
    {
     "data": {
      "text/plain": [
       "[(u'place', 696780),\n",
       " (u'like', 649445),\n",
       " (u'good', 649442),\n",
       " (u'food', 632718),\n",
       " (u'get', 557701),\n",
       " (u'time', 489718),\n",
       " (u'great', 446013),\n",
       " (u'back', 419716),\n",
       " (u'really', 405103),\n",
       " (u'service', 399552),\n",
       " (u'dont', 351051),\n",
       " (u'also', 326414),\n",
       " (u'even', 320754),\n",
       " (u'didnt', 274029),\n",
       " (u'well', 262445),\n",
       " (u'nice', 249395),\n",
       " (u'people', 246081),\n",
       " (u'came', 241960),\n",
       " (u'could', 235458),\n",
       " (u'little', 232871),\n",
       " (u'first', 232654),\n",
       " (u'much', 232330),\n",
       " (u'ordered', 228472),\n",
       " (u'order', 227915),\n",
       " (u'never', 227147),\n",
       " (u'know', 221801),\n",
       " (u'come', 212825),\n",
       " (u'best', 207762),\n",
       " (u'restaurant', 207595),\n",
       " (u'pretty', 205676),\n",
       " (u'make', 202132),\n",
       " (u'love', 201388),\n",
       " (u'try', 201333),\n",
       " (u'chicken', 196616),\n",
       " (u'way', 194778),\n",
       " (u'always', 193428),\n",
       " (u'going', 191280),\n",
       " (u'two', 190707),\n",
       " (u'made', 188982),\n",
       " (u'want', 185314),\n",
       " (u'menu', 184224),\n",
       " (u'think', 179438),\n",
       " (u'see', 177538),\n",
       " (u'better', 177178),\n",
       " (u'right', 174865),\n",
       " (u'staff', 174840),\n",
       " (u'day', 171713),\n",
       " (u'around', 171711),\n",
       " (u'still', 170829),\n",
       " (u'say', 169981)]"
      ]
     },
     "execution_count": 243,
     "metadata": {},
     "output_type": "execute_result"
    }
   ],
   "source": [
    "fpairs2.sortBy(lambda x:x[1],ascending=False).take(50)"
   ]
  },
  {
   "cell_type": "code",
   "execution_count": 244,
   "metadata": {
    "collapsed": false
   },
   "outputs": [
    {
     "data": {
      "text/plain": [
       "[(u'place', 838978),\n",
       " (u'good', 805174),\n",
       " (u'food', 738641),\n",
       " (u'like', 701035),\n",
       " (u'great', 644093),\n",
       " (u'get', 596446),\n",
       " (u'time', 550122),\n",
       " (u'really', 487788),\n",
       " (u'back', 461141),\n",
       " (u'service', 457898),\n",
       " (u'also', 413008),\n",
       " (u'dont', 351520),\n",
       " (u'even', 332355),\n",
       " (u'nice', 320564),\n",
       " (u'well', 319791),\n",
       " (u'little', 289126),\n",
       " (u'best', 281819),\n",
       " (u'love', 279218),\n",
       " (u'didnt', 271672),\n",
       " (u'much', 264495),\n",
       " (u'came', 264449),\n",
       " (u'first', 261084),\n",
       " (u'always', 259319),\n",
       " (u'ordered', 258261),\n",
       " (u'try', 257874),\n",
       " (u'people', 255741),\n",
       " (u'restaurant', 246073),\n",
       " (u'pretty', 243988),\n",
       " (u'come', 241806),\n",
       " (u'could', 240987),\n",
       " (u'order', 240649),\n",
       " (u'chicken', 238236),\n",
       " (u'menu', 235801),\n",
       " (u'definitely', 233416),\n",
       " (u'know', 226280),\n",
       " (u'make', 225957),\n",
       " (u'friendly', 222007),\n",
       " (u'made', 221833),\n",
       " (u'staff', 219481),\n",
       " (u'never', 218988),\n",
       " (u'way', 207848),\n",
       " (u'two', 205094),\n",
       " (u'delicious', 204276),\n",
       " (u'going', 200734),\n",
       " (u'right', 199901),\n",
       " (u'bar', 198100),\n",
       " (u'think', 196556),\n",
       " (u'see', 195719),\n",
       " (u'want', 194852),\n",
       " (u'experience', 194244)]"
      ]
     },
     "execution_count": 244,
     "metadata": {},
     "output_type": "execute_result"
    }
   ],
   "source": [
    "cpairs = rdd.map(lambda x: (x[8],x[5].lower().translate(table))).filter(lambda x: x[0] != 0)\n",
    "cpairs1 = cpairs.flatMapValues(lambda x: x.split(\" \")).filter(lambda x: not x[1] in stop)\n",
    "cpairs2 = cpairs1.map(lambda x: (x[1], 1)).reduceByKey(lambda x, y: x+y)\n",
    "cpairs2.sortBy(lambda x:x[1],ascending=False).take(50)"
   ]
  },
  {
   "cell_type": "markdown",
   "metadata": {},
   "source": [
    "# Average length of reviews by User_id."
   ]
  },
  {
   "cell_type": "code",
   "execution_count": 172,
   "metadata": {
    "collapsed": false
   },
   "outputs": [
    {
     "name": "stdout",
     "output_type": "stream",
     "text": [
      "+--------------------+-----------+\n",
      "|             User_id|avg(length)|\n",
      "+--------------------+-----------+\n",
      "|quWDReh4dpERjCw2c...|     1149.0|\n",
      "|vJYx1u5I0GCld02kk...|     1093.0|\n",
      "|BG1XEbXfUGv8ejFro...|     1084.0|\n",
      "|OXx7XlG1kOEw9T2_R...|     1077.0|\n",
      "|fEou-_aC_U5bOEchX...|     1062.0|\n",
      "|QR3qVDepUs7YpgsAX...|     1054.0|\n",
      "|UyDpNcErsWlk8ATEX...|     1053.0|\n",
      "|0x6xNj-v8MOpX_UoZ...|     1050.0|\n",
      "|Si-WHeYLNb0MuvptM...|     1043.0|\n",
      "|4vW84mfUC5ByVm6Ov...|     1043.0|\n",
      "|ud4vRYUT8ZrMpmAmn...|     1042.0|\n",
      "|cUEgOroKhyFBSxrEG...|     1041.0|\n",
      "|kiQDaLW_hH9LzoHmL...|     1037.0|\n",
      "|C5Ak5YjzztEvY8FiH...|     1032.0|\n",
      "|cfZu5Aj43tvlnFYo5...|     1028.0|\n",
      "|sgkGYlAiUCFKObgak...|     1026.0|\n",
      "|SS2rd6nFaQuViS-CY...|     1025.0|\n",
      "|xYz3TKbCR75tOgtyW...|     1023.0|\n",
      "|ZHHCQQijPbWAxir2a...|     1023.0|\n",
      "|5Y4bQEYp_3HXDvyOp...|     1022.0|\n",
      "+--------------------+-----------+\n",
      "only showing top 20 rows\n",
      "\n"
     ]
    }
   ],
   "source": [
    "####Average length of reviews by User_id.\n",
    "ppairs = rdd.map(lambda x: (x[1], len(x[5].lower().translate(table).split(\" \"))))\n",
    "\n",
    "#Create DataFrame\n",
    "revLen_DF = ppairs.toDF([\"User_id\", \"length\"])\n",
    "revLen_DF.groupBy(\"User_id\").agg(avg(\"length\")).orderBy(\"avg(length)\",ascending=False).show()\n"
   ]
  },
  {
   "cell_type": "code",
   "execution_count": 180,
   "metadata": {
    "collapsed": false
   },
   "outputs": [],
   "source": [
    "#pdf1=revLen_DF.groupBy(\"User_id\").agg(avg(\"length\")).orderBy(\"avg(length)\",ascending=False).take(50).toPandas()\n",
    "#pdf1.to_csv(\"AvgLenOfRev-UserID\",index=False)"
   ]
  },
  {
   "cell_type": "markdown",
   "metadata": {},
   "source": [
    "# Average length of reviews for each business(top)"
   ]
  },
  {
   "cell_type": "code",
   "execution_count": 127,
   "metadata": {
    "collapsed": false
   },
   "outputs": [
    {
     "name": "stdout",
     "output_type": "stream",
     "text": [
      "+--------------------+-----------------+\n",
      "|         business_id|      avg(length)|\n",
      "+--------------------+-----------------+\n",
      "|80fy5ngVEX5_WJbK7...|            811.0|\n",
      "|HZqISq3oXnibkQQ6_...|            771.0|\n",
      "|WfITErw6wT8HrzQdM...|           672.75|\n",
      "|_e764NHx1rGdh85UK...|672.3333333333334|\n",
      "|hFNyMFD0_6TCuDEs9...|632.6666666666666|\n",
      "|eNtb45z69XiH9P4ZJ...|            632.0|\n",
      "|ar9xoFgFJK_f8gG23...|629.3333333333334|\n",
      "|s0UrfuSYgukzch1th...|622.3333333333334|\n",
      "|SrsUE1_g02QPaACc1...|618.6666666666666|\n",
      "|0k0kwI4U8oUl-qEjR...|            614.0|\n",
      "|VQNGyIwxXot4nPV0Y...|           610.75|\n",
      "|9YZEuN2bsn8-_nduc...|            599.2|\n",
      "|uZd7UVMib1EYUFFbf...|            599.0|\n",
      "|2Q9VJZHgdkuLQeseX...|594.6666666666666|\n",
      "|E-2cNh0sfIjRwRKvu...|            588.0|\n",
      "|vy9dZu9jw0Y-JLtwN...|578.6666666666666|\n",
      "|yI_QrxrKERNq2efLo...|           575.75|\n",
      "|yO8XnZDmxnTtR03sS...|572.6666666666666|\n",
      "|24ASBsYjwEWEeHjoc...|571.6666666666666|\n",
      "|VPVRh3inT4ApMXGH0...|571.6666666666666|\n",
      "+--------------------+-----------------+\n",
      "only showing top 20 rows\n",
      "\n"
     ]
    }
   ],
   "source": [
    "#Average length of reviews for each business\n",
    "bpairs = rdd.map(lambda x: (x[2], len(x[5].lower().translate(table).split(\" \"))))\n",
    "\n",
    "#Create DataFrame\n",
    "revLen_DF = bpairs.toDF([\"business_id\", \"length\"])\n",
    "revLen_DF.groupBy(\"business_id\").agg(avg(\"length\")).orderBy(\"avg(length)\",ascending=False).show()"
   ]
  },
  {
   "cell_type": "markdown",
   "metadata": {},
   "source": [
    "## Average review length for each star rating. Surprisingly 5 * ratings are shorter than 1 * ratings."
   ]
  },
  {
   "cell_type": "code",
   "execution_count": 128,
   "metadata": {
    "collapsed": false
   },
   "outputs": [
    {
     "name": "stdout",
     "output_type": "stream",
     "text": [
      "+-----+------------------+\n",
      "|stars|       avg(length)|\n",
      "+-----+------------------+\n",
      "|    1| 145.0898459451736|\n",
      "|    2|144.46203336216595|\n",
      "|    3|133.63201138621665|\n",
      "|    4| 116.9679755680462|\n",
      "|    5| 91.14450992235106|\n",
      "+-----+------------------+\n",
      "\n"
     ]
    }
   ],
   "source": [
    "##Average review length for each star rating. Surprisingly 5 * ratings are shorter than 1 * ratings. \n",
    "spairs = rdd.map(lambda x: (x[3], len(x[5].lower().translate(table).split(\" \"))))\n",
    "\n",
    "#Create DataFrame\n",
    "revLen_DF = spairs.toDF([\"stars\", \"length\"])\n",
    "revLen_DF.groupBy(\"stars\").agg(avg(\"length\")).orderBy(\"avg(length)\",ascending=False).show()"
   ]
  },
  {
   "cell_type": "code",
   "execution_count": 152,
   "metadata": {
    "collapsed": false
   },
   "outputs": [
    {
     "data": {
      "text/html": [
       "<div>\n",
       "<table border=\"1\" class=\"dataframe\">\n",
       "  <thead>\n",
       "    <tr style=\"text-align: right;\">\n",
       "      <th></th>\n",
       "      <th>stars</th>\n",
       "      <th>avg(length)</th>\n",
       "    </tr>\n",
       "  </thead>\n",
       "  <tbody>\n",
       "    <tr>\n",
       "      <th>0</th>\n",
       "      <td>1</td>\n",
       "      <td>145.089846</td>\n",
       "    </tr>\n",
       "    <tr>\n",
       "      <th>1</th>\n",
       "      <td>2</td>\n",
       "      <td>144.462033</td>\n",
       "    </tr>\n",
       "    <tr>\n",
       "      <th>2</th>\n",
       "      <td>3</td>\n",
       "      <td>133.632011</td>\n",
       "    </tr>\n",
       "    <tr>\n",
       "      <th>3</th>\n",
       "      <td>4</td>\n",
       "      <td>116.967976</td>\n",
       "    </tr>\n",
       "    <tr>\n",
       "      <th>4</th>\n",
       "      <td>5</td>\n",
       "      <td>91.144510</td>\n",
       "    </tr>\n",
       "  </tbody>\n",
       "</table>\n",
       "</div>"
      ],
      "text/plain": [
       "   stars  avg(length)\n",
       "0      1   145.089846\n",
       "1      2   144.462033\n",
       "2      3   133.632011\n",
       "3      4   116.967976\n",
       "4      5    91.144510"
      ]
     },
     "execution_count": 152,
     "metadata": {},
     "output_type": "execute_result"
    }
   ],
   "source": [
    "#pdf=revLen_DF.groupBy(\"stars\").agg(avg(\"length\")).orderBy(\"avg(length)\",ascending=False).toPandas()\n",
    "#pdf.head()"
   ]
  },
  {
   "cell_type": "code",
   "execution_count": 176,
   "metadata": {
    "collapsed": false
   },
   "outputs": [
    {
     "name": "stdout",
     "output_type": "stream",
     "text": [
      "+--------------------+--------------------+--------------------+-----+----------+--------------------+------+-----+----+\n",
      "|           review_id|             user_id|         business_id|stars|      date|                text|useful|funny|cool|\n",
      "+--------------------+--------------------+--------------------+-----+----------+--------------------+------+-----+----+\n",
      "|vkVSCC7xljjrAI4UG...|bv2nCi5Qv5vroFiqK...|AEx2SYEUJmTxVVB18...|    5|2016-05-28|Super simple plac...|     0|    0|   0|\n",
      "|n6QzIUObkYshz4dz2...|bv2nCi5Qv5vroFiqK...|VR6GpWIda3SfvPC-l...|    5|2016-05-28|Small unassuming ...|     0|    0|   0|\n",
      "|MV3CcKScW05u5LVfF...|bv2nCi5Qv5vroFiqK...|CKC0-MOWMqoeWf6s-...|    5|2016-05-28|Lester's is locat...|     0|    0|   0|\n",
      "|IXvOzsEMYtiJI0CAR...|bv2nCi5Qv5vroFiqK...|ACFtxLv8pGrrxMm6E...|    4|2016-05-28|Love coming here....|     0|    0|   0|\n",
      "|L_9BTb55X0GDtThi6...|bv2nCi5Qv5vroFiqK...|s2I_Ni76bjJNK9yG6...|    4|2016-05-28|Had their chocola...|     0|    0|   0|\n",
      "+--------------------+--------------------+--------------------+-----+----------+--------------------+------+-----+----+\n",
      "only showing top 5 rows\n",
      "\n"
     ]
    }
   ],
   "source": [
    "df_rev.show(5)"
   ]
  },
  {
   "cell_type": "code",
   "execution_count": null,
   "metadata": {
    "collapsed": true
   },
   "outputs": [],
   "source": [
    "#from pyspark.sql.functions import col\n",
    "#dataset = sqlContext.range(0, 100).select((col(\"id\") % 3).alias(\"key\"))\n",
    "#sampled = dataset.sampleBy(\"key\", fractions={0: 0.1, 1: 0.2}, seed=0)\n",
    "#sampled.groupBy(\"key\").count().orderBy(\"key\").show()"
   ]
  },
  {
   "cell_type": "code",
   "execution_count": 187,
   "metadata": {
    "collapsed": false
   },
   "outputs": [],
   "source": [
    "from pyspark.sql.functions import date_format"
   ]
  },
  {
   "cell_type": "markdown",
   "metadata": {
    "collapsed": true
   },
   "source": [
    "# On what days of the week do users write reviews? "
   ]
  },
  {
   "cell_type": "code",
   "execution_count": 193,
   "metadata": {
    "collapsed": false
   },
   "outputs": [
    {
     "name": "stdout",
     "output_type": "stream",
     "text": [
      "+--------------------+---------+-----+\n",
      "|             user_id|      day|count|\n",
      "+--------------------+---------+-----+\n",
      "|CxDOIDnH8gp9KXzpB...| Saturday|  719|\n",
      "|CxDOIDnH8gp9KXzpB...|   Friday|  699|\n",
      "|CxDOIDnH8gp9KXzpB...| Thursday|  567|\n",
      "|CxDOIDnH8gp9KXzpB...|Wednesday|  462|\n",
      "|CxDOIDnH8gp9KXzpB...|  Tuesday|  460|\n",
      "|CxDOIDnH8gp9KXzpB...|   Monday|  432|\n",
      "|bLbSNkLggFnqwNNzz...|   Sunday|  391|\n",
      "|DK57YibC5ShBmqQl9...|   Sunday|  316|\n",
      "|bLbSNkLggFnqwNNzz...| Saturday|  305|\n",
      "|rCWrxuRC8_pfagpch...|   Sunday|  298|\n",
      "|bLbSNkLggFnqwNNzz...|   Friday|  285|\n",
      "|bLbSNkLggFnqwNNzz...|   Monday|  282|\n",
      "|PKEzKWv_FktMm2mGP...|Wednesday|  281|\n",
      "|bLbSNkLggFnqwNNzz...|Wednesday|  281|\n",
      "|bLbSNkLggFnqwNNzz...| Thursday|  267|\n",
      "|bLbSNkLggFnqwNNzz...|  Tuesday|  266|\n",
      "|d_TBs6J3twMy9GChq...|   Sunday|  259|\n",
      "|cMEtAiW60I5wE_vLf...|   Monday|  258|\n",
      "|DK57YibC5ShBmqQl9...| Saturday|  258|\n",
      "|U4INQZOPSUaj8hMjL...|   Monday|  253|\n",
      "+--------------------+---------+-----+\n",
      "only showing top 20 rows\n",
      "\n"
     ]
    }
   ],
   "source": [
    "df_rev.select(\"user_id\",date_format('date','EEEE').alias('day')).groupby(\"user_id\",\"day\").count().orderBy(\"count\",ascending=False).show()"
   ]
  },
  {
   "cell_type": "markdown",
   "metadata": {
    "collapsed": true
   },
   "source": [
    "# Distribution of number of reviews on each day of the week\n",
    "#Contrary to the belief, more number of reviews are written on Sundays closely followed by Mondays and not saturdays.\n",
    "#Probably it is a reactive process. People go to different places on weekends and leisurely write reviews on the following days.\n",
    "#People are busy on Fridays"
   ]
  },
  {
   "cell_type": "code",
   "execution_count": 204,
   "metadata": {
    "collapsed": false
   },
   "outputs": [
    {
     "name": "stdout",
     "output_type": "stream",
     "text": [
      "+---------+------+\n",
      "|      day| count|\n",
      "+---------+------+\n",
      "|   Sunday|794745|\n",
      "|   Monday|793559|\n",
      "|Wednesday|753938|\n",
      "| Saturday|749882|\n",
      "|  Tuesday|747057|\n",
      "| Thursday|712783|\n",
      "|   Friday|709704|\n",
      "+---------+------+\n",
      "\n"
     ]
    }
   ],
   "source": [
    "#Distribution of number of reviews on each day of the week\n",
    "df_rev.select(\"date\",date_format('date','EEEE').alias('day')).groupby(\"day\").count().orderBy(\"count\",ascending=False).show()"
   ]
  },
  {
   "cell_type": "code",
   "execution_count": 211,
   "metadata": {
    "collapsed": false,
    "scrolled": true
   },
   "outputs": [
    {
     "name": "stdout",
     "output_type": "stream",
     "text": [
      "+----------+-----+\n",
      "|      date|count|\n",
      "+----------+-----+\n",
      "|2005-07-08|    1|\n",
      "|2005-05-02|    1|\n",
      "|2005-05-09|    1|\n",
      "|2005-07-05|    1|\n",
      "|2005-07-03|    1|\n",
      "|2004-07-22|    1|\n",
      "|2005-06-09|    1|\n",
      "|2005-11-10|    1|\n",
      "|2005-10-10|    1|\n",
      "|2005-11-15|    1|\n",
      "|2005-10-05|    1|\n",
      "|2005-08-09|    1|\n",
      "|2005-12-11|    1|\n",
      "|2005-06-07|    1|\n",
      "|2005-09-09|    1|\n",
      "|2005-12-13|    1|\n",
      "|2005-09-13|    1|\n",
      "|2005-08-04|    1|\n",
      "|2004-10-25|    1|\n",
      "|2006-03-23|    1|\n",
      "+----------+-----+\n",
      "only showing top 20 rows\n",
      "\n"
     ]
    }
   ],
   "source": [
    "df_rev.groupby(\"date\").count().orderBy(\"count\",ascending=True).show()"
   ]
  },
  {
   "cell_type": "code",
   "execution_count": 212,
   "metadata": {
    "collapsed": false,
    "scrolled": true
   },
   "outputs": [
    {
     "name": "stdout",
     "output_type": "stream",
     "text": [
      "+----------+-----+\n",
      "|      date|count|\n",
      "+----------+-----+\n",
      "|2017-08-12| 4614|\n",
      "|2017-08-13| 4340|\n",
      "|2017-07-14| 4269|\n",
      "|2017-07-16| 4185|\n",
      "|2017-07-08| 4159|\n",
      "|2017-07-30| 4038|\n",
      "|2017-07-09| 4025|\n",
      "|2017-07-15| 3998|\n",
      "|2017-07-29| 3973|\n",
      "|2017-10-09| 3949|\n",
      "|2017-06-25| 3938|\n",
      "|2017-08-06| 3922|\n",
      "|2017-06-09| 3912|\n",
      "|2017-10-08| 3893|\n",
      "|2017-07-22| 3845|\n",
      "|2017-07-23| 3838|\n",
      "|2017-08-05| 3832|\n",
      "|2017-02-19| 3831|\n",
      "|2017-09-17| 3826|\n",
      "|2017-11-07| 3816|\n",
      "+----------+-----+\n",
      "only showing top 20 rows\n",
      "\n"
     ]
    }
   ],
   "source": [
    "df_rev.groupby(\"date\").count().orderBy(\"count\",ascending=False).show()"
   ]
  },
  {
   "cell_type": "code",
   "execution_count": 213,
   "metadata": {
    "collapsed": true
   },
   "outputs": [],
   "source": [
    "from pyspark.sql.functions import year, month, dayofmonth"
   ]
  },
  {
   "cell_type": "markdown",
   "metadata": {
    "collapsed": true
   },
   "source": [
    "# The number of users giving reviews is increasing every year. Increase in businesses, increase in technology and many more reasons "
   ]
  },
  {
   "cell_type": "code",
   "execution_count": 217,
   "metadata": {
    "collapsed": false
   },
   "outputs": [
    {
     "name": "stdout",
     "output_type": "stream",
     "text": [
      "+----+-------+\n",
      "|year|  count|\n",
      "+----+-------+\n",
      "|2004|     14|\n",
      "|2005|    870|\n",
      "|2006|   5669|\n",
      "|2007|  23020|\n",
      "|2008|  61553|\n",
      "|2009|  98288|\n",
      "|2010| 187073|\n",
      "|2011| 290933|\n",
      "|2012| 350381|\n",
      "|2013| 472595|\n",
      "|2014| 678351|\n",
      "|2015| 911487|\n",
      "|2016|1052916|\n",
      "|2017|1128518|\n",
      "+----+-------+\n",
      "\n"
     ]
    }
   ],
   "source": [
    "df_rev.select(year(\"date\").alias('year')).groupby(\"year\").count().show()"
   ]
  },
  {
   "cell_type": "code",
   "execution_count": 218,
   "metadata": {
    "collapsed": false
   },
   "outputs": [
    {
     "name": "stdout",
     "output_type": "stream",
     "text": [
      "+-----+------+\n",
      "|month| count|\n",
      "+-----+------+\n",
      "|    1|410760|\n",
      "|    2|382709|\n",
      "|    3|433304|\n",
      "|    4|428625|\n",
      "|    5|442017|\n",
      "|    6|454042|\n",
      "|    7|506013|\n",
      "|    8|503860|\n",
      "|    9|449790|\n",
      "|   10|448157|\n",
      "|   11|428940|\n",
      "|   12|373451|\n",
      "+-----+------+\n",
      "\n"
     ]
    }
   ],
   "source": [
    "df_rev.select(month(\"date\").alias('month')).groupby(\"month\").count().show()"
   ]
  },
  {
   "cell_type": "markdown",
   "metadata": {
    "collapsed": true
   },
   "source": [
    "# Sentiment Analysis for a business which has almost 7000 reviews."
   ]
  },
  {
   "cell_type": "code",
   "execution_count": 248,
   "metadata": {
    "collapsed": false
   },
   "outputs": [
    {
     "name": "stderr",
     "output_type": "stream",
     "text": [
      "/usr/lib/python2.7/site-packages/nltk/twitter/__init__.py:20: UserWarning: The twython library has not been installed. Some functionality from the twitter package will not be available.\n",
      "  warnings.warn(\"The twython library has not been installed. \"\n"
     ]
    }
   ],
   "source": [
    "from nltk.sentiment.vader import SentimentIntensityAnalyzer\n",
    "sid = SentimentIntensityAnalyzer()"
   ]
  },
  {
   "cell_type": "code",
   "execution_count": 247,
   "metadata": {
    "collapsed": true
   },
   "outputs": [],
   "source": [
    "senti = rdd.filter(lambda x: x[2]=='4JNXUYY8wbaaDmk3BPzlWw').map(lambda x: (x[3],round(sid.polarity_scores(x[5])['compound'],1)))"
   ]
  },
  {
   "cell_type": "code",
   "execution_count": 250,
   "metadata": {
    "collapsed": true
   },
   "outputs": [],
   "source": [
    "sentiDF = senti.toDF([\"stars\", \"senti_score\"])"
   ]
  },
  {
   "cell_type": "code",
   "execution_count": 249,
   "metadata": {
    "collapsed": false
   },
   "outputs": [
    {
     "data": {
      "text/plain": [
       "[(4, 1.0), (5, 1.0), (2, 0.0)]"
      ]
     },
     "execution_count": 249,
     "metadata": {},
     "output_type": "execute_result"
    }
   ],
   "source": [
    "senti.take(3)"
   ]
  },
  {
   "cell_type": "code",
   "execution_count": 251,
   "metadata": {
    "collapsed": false
   },
   "outputs": [
    {
     "name": "stdout",
     "output_type": "stream",
     "text": [
      "+-----+--------------------+\n",
      "|stars|    avg(senti_score)|\n",
      "+-----+--------------------+\n",
      "|    1|-0.00723404255319...|\n",
      "|    2|   0.413429256594724|\n",
      "|    3|  0.7460187353629977|\n",
      "|    4|  0.8781832298136647|\n",
      "|    5|  0.9139939024390246|\n",
      "+-----+--------------------+\n",
      "\n"
     ]
    }
   ],
   "source": [
    "sentiDF.groupby(\"stars\").agg(avg(\"senti_score\")).show()"
   ]
  },
  {
   "cell_type": "markdown",
   "metadata": {},
   "source": [
    "# Average sentiment of all the reviews in the review file:"
   ]
  },
  {
   "cell_type": "code",
   "execution_count": 252,
   "metadata": {
    "collapsed": true
   },
   "outputs": [],
   "source": [
    "total_senti = rdd.map(lambda x: (x[3],round(sid.polarity_scores(x[5])['compound'],1)))"
   ]
  },
  {
   "cell_type": "code",
   "execution_count": 253,
   "metadata": {
    "collapsed": true
   },
   "outputs": [],
   "source": [
    "totalSentiDF = total_senti.toDF([\"stars\", \"senti_score\"])"
   ]
  },
  {
   "cell_type": "code",
   "execution_count": 256,
   "metadata": {
    "collapsed": false
   },
   "outputs": [
    {
     "name": "stdout",
     "output_type": "stream",
     "text": [
      "+-----+--------------------+\n",
      "|stars|    avg(senti_score)|\n",
      "+-----+--------------------+\n",
      "|    1|-0.15963796363775978|\n",
      "|    2| 0.30377715040818515|\n",
      "|    3|  0.6406932139253102|\n",
      "|    4|  0.8317341553615031|\n",
      "|    5|  0.8698276829979905|\n",
      "+-----+--------------------+\n",
      "\n"
     ]
    }
   ],
   "source": [
    "totalSentiDF.groupby(\"stars\").agg(avg(\"senti_score\")).show()"
   ]
  },
  {
   "cell_type": "code",
   "execution_count": null,
   "metadata": {
    "collapsed": true
   },
   "outputs": [],
   "source": []
  },
  {
   "cell_type": "code",
   "execution_count": null,
   "metadata": {
    "collapsed": true
   },
   "outputs": [],
   "source": []
  },
  {
   "cell_type": "code",
   "execution_count": 130,
   "metadata": {
    "collapsed": true
   },
   "outputs": [],
   "source": [
    "####business dataset\n",
    "df_bus = sqlct.read.format(\"com.databricks.spark.csv\").options(charset=\"ISO-8859-1\",separator = ',', multiline=True, header=True, inferSchema = True).load(os.path.join(loc, 'yelp_business.csv'))"
   ]
  },
  {
   "cell_type": "code",
   "execution_count": 130,
   "metadata": {
    "collapsed": true
   },
   "outputs": [],
   "source": [
    "####business dataset\n",
    "df_bus = sqlct.read.format(\"com.databricks.spark.csv\").options(charset=\"ISO-8859-1\",separator = ',', multiline=True, header=True, inferSchema = True).load(os.path.join(loc, 'yelp_business.csv'))"
   ]
  },
  {
   "cell_type": "code",
   "execution_count": 16,
   "metadata": {
    "collapsed": false
   },
   "outputs": [
    {
     "data": {
      "text/plain": [
       "174567"
      ]
     },
     "execution_count": 16,
     "metadata": {},
     "output_type": "execute_result"
    }
   ],
   "source": [
    "df_bus.count()"
   ]
  },
  {
   "cell_type": "code",
   "execution_count": 131,
   "metadata": {
    "collapsed": true
   },
   "outputs": [],
   "source": [
    "df_user = sqlct.read.format(\"com.databricks.spark.csv\").options(charset=\"ISO-8859-1\",separator = ',', multiline=True, header=True, inferSchema = True).load(os.path.join(loc, 'yelp_user.csv'))"
   ]
  },
  {
   "cell_type": "code",
   "execution_count": 18,
   "metadata": {
    "collapsed": false
   },
   "outputs": [
    {
     "data": {
      "text/plain": [
       "1326100"
      ]
     },
     "execution_count": 18,
     "metadata": {},
     "output_type": "execute_result"
    }
   ],
   "source": [
    "df_user.count()"
   ]
  },
  {
   "cell_type": "code",
   "execution_count": 133,
   "metadata": {
    "collapsed": false
   },
   "outputs": [
    {
     "data": {
      "text/plain": [
       "Row(business_id=u'FYWN1wneV18bWNgQjJ2GNg', name=u'\"Dental by Design\"', neighborhood=u'', address=u'\"4855 E Warner Rd, Ste B9\"', city=u'Ahwatukee', state=u'AZ', postal_code=u'85044', latitude=33.3306902, longitude=-111.9785992, stars=4.0, review_count=22, is_open=1, categories=u'Dentists;General Dentistry;Health & Medical;Oral Surgeons;Cosmetic Dentists;Orthodontists')"
      ]
     },
     "execution_count": 133,
     "metadata": {},
     "output_type": "execute_result"
    }
   ],
   "source": [
    "df_bus.head()"
   ]
  },
  {
   "cell_type": "code",
   "execution_count": 139,
   "metadata": {
    "collapsed": false
   },
   "outputs": [
    {
     "data": {
      "text/plain": [
       "Row(user_id=u'JJ-aSuM4pCFPdkfoZ34q0Q', name=u'Chris', review_count=10, yelping_since=u'2013-09-24', friends=u'0njfJmB-7n84DlIgUByCNw, rFn3Xe3RqHxRSxWOU19Gpg, HVUAmApa0fCbHHVJ0ALshw, LBOTb6bJjCdFyDLNswUGmA, cy3d0moQOsrhWo6VAyA_kA, XTDeelhFzFX0h_8YELJDIQ, _erxdUfB8yJA_MCDBAaD_w, 3wMYVoHy15nxOCLZYYIhqA, 74C8Mdn3ISlFIwNZQUPEdg, Vc980a_kTQL9tzfG1ESq_g, UPld_8xdzvYmIMA4YxtG0A, ggppqaSt-4E-Y2XUVv6mMw, vILp0ctTM3fX0ucJeBw9Hg, Gl46kwumd4_f102dxgswDw, i9CDu8j-qcUfZYl67WBwiw, 23lcgZUt6dvtMqV_AZe9KQ, zacONW61-GjaCF9h5_icgA, BclKLmGPYlMEVr3OZ_Uuzw, ol00uKESTC5PR_fETT27AA, o7e8zecvSlPNTrPi1ZQLzg, 00JBHX0npVAC-itaFOUhpQ, im3w0wt-ZeE-lDa1zSdyMg, J_hT3mbtiwHIEWjTBSJnzQ, _54jmZK9vr9CN-SUSjFbMg, 65w6GtrNNlZDowVDAYGZFQ, WJeipqBVdQmVhnYrXlLb7A, vAhyONgVtU-oIaSHRJW0IA, Soa5S7dQsSjlG3lbTVGb2A, xtVcWcIKVORcBKhmdbrFiA, 7CghpxENlXnjTGOyNtRDsg, jI5mX0tNR79J_qoFKZMPdA, MFtiq9lbm95WVg501wNsww, SCICexHST-LMCowvH9h7jQ, SD2VfVLfSkz8m18dvo0HGA, Y8TLRIPm_ecnZPItgAJ3Kg, t9bfJI2zvx-3eFrN2zvQnw, 6yUCCifCroUPfXaVo5fCAA, SGDa-z6MmLmNCamviRsdsA, aZiDtUBOMHh19IsShZvqJg, nT9_vJSUk_Tay2Yx84rzCg, M98bD_uUoC0SJ39keA4OQw, hT3kGKYFnLflIifxyeKWwg, loEGz0M-bBf0XnyjrbEvFQ, Als68VuGzyG3rbn7aLkdBQ, X1Rx-CRMt3BjtW10xSb3Lw, svdwrwuL9YHyF3rOgjbB1w, T0jSTc2uvGtzIHZ843FcHQ, XAWO5aDTxo-LTE4jVdBdVg, Q1dLA0wWGO390tH56uKA4Q, -Ty7mzu-bxd4NmEprFXHEA, LQKbKXzjGtRRTK6v00o4gg, BLnaah22WBlLCDwOC7rJ8Q, IWlU5scMqNaKSWO5ovY_iA, kMPSklg0XL9uYeYUgX2oCg, EUH2OBcw32X7wv6Yg4oC_w, Rkm94t2H5p2aPihBzhqP7w, MetDJXD8zSj9J5FqTYB_3Q, TyJ4xokX87KzbNUS8GX85A, t8H01Z2Vx9GNU8uXVKxr2Q, gv28x4ugM5FHGI_Jkky4kg, Y-AnP_QFDcq6B9BoDUUs0A, PXutYstbsqF3kgj6Tuik7Q, G0XMrknewP2Y3iHt84qZiA, gfYOmCKPDni8L3Dd_jibNQ, M9FL-chYhMA4nZpmTbWIZQ, zdahkrcKI1Mdj7H0i6oJcQ, vl3qiO6v4RbFJBpxVREJPw, RzbEU8OO2wbx67v_005Vlg, T1LHbOLMsvSjgqAJXQJwxA, 3na1OAZAe44z06SVPY_gPA, DwOyBVeoiZP7B4ZNkgbVbw, f-ZbVPvuUIuGGE1cGcTRTQ, 6FmeOxLVL0DVr7KHBC1kVA, BjN4WYNWk1t8qipjCqMJfA, 7rwANCcxfWgZ7K3LNBcQlw, 1kZ3jeyfPDAq7t7sIb89yg, TDo7fo6qn8OjokmvyZzPxw, ZJsUtNX4UXrQNL7ddEegUQ, J-sGGuafu3SFAWlw5D0xBw', useful=0, funny=0, cool=0, fans=0, elite=u'None', average_stars=3.7, compliment_hot=0, compliment_more=0, compliment_profile=0, compliment_cute=0, compliment_list=0, compliment_note=0, compliment_plain=0, compliment_cool=0, compliment_funny=0, compliment_writer=0, compliment_photos=0)"
      ]
     },
     "execution_count": 139,
     "metadata": {},
     "output_type": "execute_result"
    }
   ],
   "source": [
    "df_user.head()"
   ]
  },
  {
   "cell_type": "code",
   "execution_count": 138,
   "metadata": {
    "collapsed": false
   },
   "outputs": [
    {
     "name": "stdout",
     "output_type": "stream",
     "text": [
      "+--------------------+-----+------------+-------------+--------------------+------+-----+----+----+-----+-------------+--------------+---------------+------------------+---------------+---------------+---------------+----------------+---------------+----------------+-----------------+-----------------+\n",
      "|             user_id| name|review_count|yelping_since|             friends|useful|funny|cool|fans|elite|average_stars|compliment_hot|compliment_more|compliment_profile|compliment_cute|compliment_list|compliment_note|compliment_plain|compliment_cool|compliment_funny|compliment_writer|compliment_photos|\n",
      "+--------------------+-----+------------+-------------+--------------------+------+-----+----+----+-----+-------------+--------------+---------------+------------------+---------------+---------------+---------------+----------------+---------------+----------------+-----------------+-----------------+\n",
      "|JJ-aSuM4pCFPdkfoZ...|Chris|          10|   2013-09-24|0njfJmB-7n84DlIgU...|     0|    0|   0|   0| None|          3.7|             0|              0|                 0|              0|              0|              0|               0|              0|               0|                0|                0|\n",
      "+--------------------+-----+------------+-------------+--------------------+------+-----+----+----+-----+-------------+--------------+---------------+------------------+---------------+---------------+---------------+----------------+---------------+----------------+-----------------+-----------------+\n",
      "only showing top 1 row\n",
      "\n"
     ]
    }
   ],
   "source": [
    "df_user.show(1)"
   ]
  },
  {
   "cell_type": "code",
   "execution_count": 19,
   "metadata": {
    "collapsed": false
   },
   "outputs": [],
   "source": [
    "#df_user = sqlct.createDataFrame(pdf_user)\n",
    "#df_rev = sqlct.createDataFrame(pdf_review)"
   ]
  },
  {
   "cell_type": "code",
   "execution_count": 140,
   "metadata": {
    "collapsed": true
   },
   "outputs": [],
   "source": [
    "bus = df_bus.alias('bus')\n",
    "rev = df_rev.alias('rev')\n",
    "df_rev_bus = rev.join(bus, rev.business_id == bus.business_id,how='left')"
   ]
  },
  {
   "cell_type": "code",
   "execution_count": 25,
   "metadata": {
    "collapsed": false
   },
   "outputs": [
    {
     "name": "stdout",
     "output_type": "stream",
     "text": [
      "+--------------------+--------------------+--------------------+-----+----------+--------------------+------+-----+----+\n",
      "|           review_id|             user_id|         business_id|stars|      date|                text|useful|funny|cool|\n",
      "+--------------------+--------------------+--------------------+-----+----------+--------------------+------+-----+----+\n",
      "|vR3s24M2fcsh8xHle...|85Jq6l707HWj2XpFw...|oLU_U-INLzjnZ4yW-...|    4|2017-12-11|wow les nombres d...|     1|    0|   0|\n",
      "|2V1ZTOWtC6N4JadH6...|VBT4-K2XKqh1KW_vK...|HUwzarG0givckxXWT...|    5|2017-12-11|Great food, with ...|     0|    0|   0|\n",
      "|zxfumrdFXha1NIZD2...|qy79NsGGJZq_nJkrE...|RRWJ1l8YDNYKh8LV7...|    4|2017-12-10|It's a good place...|     0|    0|   0|\n",
      "|Qc6UAelXAJ9K_XRyo...|AvQvV4vylIwCiyS6s...|uJEot284h2qJbrWOg...|    5|2017-12-08|We really enjoyed...|     0|    0|   0|\n",
      "|SrGj25VWMh-ZS5oI5...|CZs1Eq7t1fqpXV1yo...|eJPckkV1k7gn0V2aw...|    5|2017-12-07|Don't be sideline...|     1|    0|   0|\n",
      "|5XMDyw2E4lM98w4By...|CZs1Eq7t1fqpXV1yo...|CYXz0Ze2cG0jVdtYI...|    5|2017-12-07|I've been a anthr...|     2|    0|   0|\n",
      "|159AI2F5BQzW0HmAB...|CZs1Eq7t1fqpXV1yo...|A5Rkh7UymKm0_Rxm9...|    3|2017-12-07|I usually come in...|     1|    0|   0|\n",
      "|ayF5Ha4FxwMKZkPz5...|CZs1Eq7t1fqpXV1yo...|SOKM_5e4sfNJaSbvF...|    5|2017-12-07|Listen, you just ...|     1|    0|   1|\n",
      "|RbW5MuwUI-HvLf-Ne...|35jRL9TWplCZuzScD...|wcLX8aToZJF4AR-qk...|    5|2017-12-07|Louis, our driver...|     0|    0|   1|\n",
      "|sYb218td_Jjt_6dfe...|CZs1Eq7t1fqpXV1yo...|KdbpodH2tnRu_3feQ...|    5|2017-12-07|I was oh so fortu...|     1|    0|   0|\n",
      "|sKyNVj72QGpf3gTl4...|CZs1Eq7t1fqpXV1yo...|ejpYxAVXIaeGUGu8a...|    5|2017-12-07|The phenomenal st...|     1|    0|   2|\n",
      "|UJnrHHqDZmPpM-HnH...|3DQaXFbn_UPB552Nw...|o_c82LAuEV5Yr30Xp...|    3|2017-11-30|Good food and pre...|     0|    0|   0|\n",
      "|VGIUNfoQWvVqcuRXi...|3DQaXFbn_UPB552Nw...|NXNa5OYmN1CNmXwHh...|    2|2017-11-30|Honestly very ups...|     0|    0|   0|\n",
      "|z_mVLygzPn8uHp63S...|MzEnYCyZlRYQRISNM...|S-oLPRdhlyL5HAknB...|    4|2017-11-30|Holy portion size...|     0|    0|   0|\n",
      "|ZE75uR3oYxw_nsSTX...|3DQaXFbn_UPB552Nw...|IWsrQ4-AtZuFJdYzI...|    5|2017-11-30|Overall, the gym ...|     1|    0|   1|\n",
      "|PxXbN2JbXo-_EAzX_...|CZs1Eq7t1fqpXV1yo...|7TWSlQLZBok5Pxlnn...|    5|2017-11-29|Rarely there is a...|     2|    0|   0|\n",
      "|83We-ScNEBiA6vETr...|CZs1Eq7t1fqpXV1yo...|s_qD5EeWXt7vAoUD9...|    5|2017-11-29|Heddy's is a fabr...|     1|    0|   0|\n",
      "|m2iAXjEHKQWHosuPt...|RdMcyTF15hJRvEhL6...|u9_cHsWEKds73ZT8P...|    5|2017-11-29|I had a dinner wi...|     0|    0|   0|\n",
      "|7GlSsfUO2oBlGsrqQ...|CZs1Eq7t1fqpXV1yo...|ZgPnRzWjQR5NtiauG...|    4|2017-11-29|Bread, that irres...|     2|    0|   0|\n",
      "|mQL_Vbnu5lrFVXqsG...|CZs1Eq7t1fqpXV1yo...|Uux8P1ruzjPTQgOeY...|    4|2017-11-29|Stopped by here a...|     1|    0|   0|\n",
      "+--------------------+--------------------+--------------------+-----+----------+--------------------+------+-----+----+\n",
      "only showing top 20 rows\n",
      "\n"
     ]
    }
   ],
   "source": [
    "df_rev.orderBy(df_rev.date.desc()).show()"
   ]
  }
 ],
 "metadata": {
  "kernelspec": {
   "display_name": "Python 2",
   "language": "python",
   "name": "python2"
  },
  "language_info": {
   "codemirror_mode": {
    "name": "ipython",
    "version": 2
   },
   "file_extension": ".py",
   "mimetype": "text/x-python",
   "name": "python",
   "nbconvert_exporter": "python",
   "pygments_lexer": "ipython2",
   "version": "2.7.5"
  }
 },
 "nbformat": 4,
 "nbformat_minor": 2
}
